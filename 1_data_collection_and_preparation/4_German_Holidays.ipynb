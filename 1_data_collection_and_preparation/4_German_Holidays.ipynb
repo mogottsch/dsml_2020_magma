{
 "cells": [
  {
   "cell_type": "markdown",
   "metadata": {},
   "source": [
    "# Import Statements"
   ]
  },
  {
   "cell_type": "code",
   "execution_count": 1,
   "metadata": {},
   "outputs": [],
   "source": [
    "import pandas as pd\n",
    "import numpy as np\n",
    "from datetime import datetime\n",
    "import urllib.request, json # we will need urllib to communicate with the api and then json to read the data we get"
   ]
  },
  {
   "cell_type": "markdown",
   "metadata": {},
   "source": [
    "---"
   ]
  },
  {
   "cell_type": "markdown",
   "metadata": {},
   "source": [
    "# Holiday Data"
   ]
  },
  {
   "cell_type": "markdown",
   "metadata": {},
   "source": [
    "## NRW (Duisburg)"
   ]
  },
  {
   "cell_type": "markdown",
   "metadata": {},
   "source": [
    "### Get official NRW holidays (Feiertage) from API"
   ]
  },
  {
   "cell_type": "code",
   "execution_count": 2,
   "metadata": {},
   "outputs": [],
   "source": [
    "with urllib.request.urlopen(\"https://feiertage-api.de/api/?jahr=2019\") as url:\n",
    "    nrw_holidays_json = json.loads(url.read().decode())"
   ]
  },
  {
   "cell_type": "code",
   "execution_count": 3,
   "metadata": {},
   "outputs": [],
   "source": [
    "nrw_holidays = []\n",
    "for name, data in nrw_holidays_json['NW'].items():\n",
    "    nrw_holidays.append(pd.to_datetime(data['datum']))\n",
    "index = pd.DatetimeIndex(nrw_holidays)\n",
    "nrw_holidays = pd.Series(data=True, index = index)"
   ]
  },
  {
   "cell_type": "markdown",
   "metadata": {},
   "source": [
    "### Get official NRW vacations (Ferien) from API"
   ]
  },
  {
   "cell_type": "code",
   "execution_count": 4,
   "metadata": {},
   "outputs": [],
   "source": [
    "with urllib.request.urlopen(\"https://ferien-api.de/api/v1/holidays/NW/2019\") as url:\n",
    "    nrw_vacations_json = json.loads(url.read().decode())"
   ]
  },
  {
   "cell_type": "code",
   "execution_count": 5,
   "metadata": {},
   "outputs": [],
   "source": [
    "nrw_vacations = pd.DataFrame(nrw_vacations_json)"
   ]
  },
  {
   "cell_type": "code",
   "execution_count": 6,
   "metadata": {},
   "outputs": [],
   "source": [
    "nrw_vacations['start'] = pd.to_datetime(nrw_vacations['start'])\n",
    "nrw_vacations['end'] = pd.to_datetime(nrw_vacations['end'])"
   ]
  },
  {
   "cell_type": "code",
   "execution_count": 7,
   "metadata": {},
   "outputs": [],
   "source": [
    "nrw_vacations.drop(nrw_vacations.columns.difference(['start','end']), 1, inplace=True)"
   ]
  },
  {
   "cell_type": "code",
   "execution_count": 8,
   "metadata": {},
   "outputs": [],
   "source": [
    "nrw_vacation_index = pd.DatetimeIndex({})\n",
    "for index, row in nrw_vacations.iterrows():\n",
    "    nrw_vacation_index = nrw_vacation_index.append(pd.date_range(row['start'], row['end']))"
   ]
  },
  {
   "cell_type": "code",
   "execution_count": 9,
   "metadata": {},
   "outputs": [],
   "source": [
    "nrw_vacations = pd.Series(index=nrw_vacation_index, data=True)"
   ]
  },
  {
   "cell_type": "code",
   "execution_count": 10,
   "metadata": {},
   "outputs": [],
   "source": [
    "nrw_holidays_full = pd.DataFrame({'is_holiday': nrw_holidays.append(nrw_vacations)})"
   ]
  },
  {
   "cell_type": "markdown",
   "metadata": {},
   "source": [
    "We remove duplicate indeces, because holidays can be in vacations."
   ]
  },
  {
   "cell_type": "code",
   "execution_count": 11,
   "metadata": {},
   "outputs": [],
   "source": [
    "nrw_holidays_full = nrw_holidays_full.reset_index().drop_duplicates(subset='index', keep='last').set_index('index')"
   ]
  },
  {
   "cell_type": "code",
   "execution_count": 12,
   "metadata": {},
   "outputs": [],
   "source": [
    "nrw_holidays_full = nrw_holidays_full.asfreq('h', fill_value=True)"
   ]
  },
  {
   "cell_type": "code",
   "execution_count": 13,
   "metadata": {},
   "outputs": [],
   "source": [
    "nrw_holidays_full.to_pickle('../0_data/nrw_holidays.pkl')"
   ]
  },
  {
   "cell_type": "markdown",
   "metadata": {},
   "source": [
    "## Hessen (Marburg)"
   ]
  },
  {
   "cell_type": "markdown",
   "metadata": {},
   "source": [
    "### Get official Hessen holidays (Feiertage) from API"
   ]
  },
  {
   "cell_type": "code",
   "execution_count": 14,
   "metadata": {},
   "outputs": [],
   "source": [
    "with urllib.request.urlopen(\"https://feiertage-api.de/api/?jahr=2019\") as url:\n",
    "    he_holidays_json = json.loads(url.read().decode())"
   ]
  },
  {
   "cell_type": "code",
   "execution_count": 15,
   "metadata": {},
   "outputs": [],
   "source": [
    "he_holidays = []\n",
    "for name, data in he_holidays_json['HE'].items():\n",
    "    he_holidays.append(pd.to_datetime(data['datum']))\n",
    "index = pd.DatetimeIndex(he_holidays)\n",
    "he_holidays = pd.Series(data=True, index = index)"
   ]
  },
  {
   "cell_type": "code",
   "execution_count": 16,
   "metadata": {},
   "outputs": [
    {
     "data": {
      "text/plain": [
       "2019-01-01    True\n",
       "2019-04-19    True\n",
       "2019-04-22    True\n",
       "2019-05-01    True\n",
       "2019-05-30    True\n",
       "2019-06-10    True\n",
       "2019-06-20    True\n",
       "2019-10-03    True\n",
       "2019-12-25    True\n",
       "2019-12-26    True\n",
       "dtype: bool"
      ]
     },
     "execution_count": 16,
     "metadata": {},
     "output_type": "execute_result"
    }
   ],
   "source": [
    "he_holidays"
   ]
  },
  {
   "cell_type": "markdown",
   "metadata": {},
   "source": [
    "### Get official Hessen vacations (Ferien) from API"
   ]
  },
  {
   "cell_type": "code",
   "execution_count": 17,
   "metadata": {},
   "outputs": [],
   "source": [
    "with urllib.request.urlopen(\"https://ferien-api.de/api/v1/holidays/HE/2019\") as url:\n",
    "    he_vacations_json = json.loads(url.read().decode())"
   ]
  },
  {
   "cell_type": "code",
   "execution_count": 18,
   "metadata": {},
   "outputs": [],
   "source": [
    "he_vacations = pd.DataFrame(he_vacations_json)"
   ]
  },
  {
   "cell_type": "code",
   "execution_count": 19,
   "metadata": {},
   "outputs": [],
   "source": [
    "he_vacations['start'] = pd.to_datetime(he_vacations['start'])\n",
    "he_vacations['end'] = pd.to_datetime(he_vacations['end'])"
   ]
  },
  {
   "cell_type": "code",
   "execution_count": 20,
   "metadata": {},
   "outputs": [],
   "source": [
    "he_vacations.drop(he_vacations.columns.difference(['start','end']), 1, inplace=True)"
   ]
  },
  {
   "cell_type": "code",
   "execution_count": 21,
   "metadata": {},
   "outputs": [],
   "source": [
    "he_vacation_index = pd.DatetimeIndex({})\n",
    "for index, row in he_vacations.iterrows():\n",
    "    he_vacation_index = he_vacation_index.append(pd.date_range(row['start'], row['end']))"
   ]
  },
  {
   "cell_type": "code",
   "execution_count": 22,
   "metadata": {},
   "outputs": [],
   "source": [
    "he_vacations = pd.Series(index=he_vacation_index, data=True)"
   ]
  },
  {
   "cell_type": "code",
   "execution_count": 23,
   "metadata": {},
   "outputs": [],
   "source": [
    "he_holidays_full = pd.DataFrame({'is_holiday': he_holidays.append(he_vacations)})"
   ]
  },
  {
   "cell_type": "code",
   "execution_count": 24,
   "metadata": {},
   "outputs": [],
   "source": [
    "he_holidays_full = he_holidays_full.reset_index().drop_duplicates(subset='index', keep='last').set_index('index')"
   ]
  },
  {
   "cell_type": "code",
   "execution_count": 25,
   "metadata": {},
   "outputs": [],
   "source": [
    "he_holidays_full = he_holidays_full.asfreq('h', fill_value=True)"
   ]
  },
  {
   "cell_type": "code",
   "execution_count": 26,
   "metadata": {},
   "outputs": [],
   "source": [
    "he_holidays_full.to_pickle('../0_data/he_holidays.pkl')"
   ]
  }
 ],
 "metadata": {
  "kernelspec": {
   "display_name": "Python 3",
   "language": "python",
   "name": "python3"
  },
  "language_info": {
   "codemirror_mode": {
    "name": "ipython",
    "version": 3
   },
   "file_extension": ".py",
   "mimetype": "text/x-python",
   "name": "python",
   "nbconvert_exporter": "python",
   "pygments_lexer": "ipython3",
   "version": "3.7.7"
  }
 },
 "nbformat": 4,
 "nbformat_minor": 4
}
