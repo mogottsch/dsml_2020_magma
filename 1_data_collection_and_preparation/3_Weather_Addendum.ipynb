{
 "cells": [
  {
   "cell_type": "code",
   "execution_count": 96,
   "metadata": {},
   "outputs": [],
   "source": [
    "import pandas as pd\n",
    "import numpy as np\n",
    "from datetime import datetime\n",
    "from datetime import timedelta\n",
    "\n",
    "import matplotlib.pyplot as plt"
   ]
  },
  {
   "cell_type": "code",
   "execution_count": 118,
   "metadata": {},
   "outputs": [],
   "source": [
    "cloud_coverage = pd.read_csv(\"../0_data/weather/cloud_coverage.csv\")\n",
    "wind_velocity = pd.read_csv(\"../0_data/weather/wind_velocity.csv\")\n",
    "\n",
    "marburg_weather = pd.read_pickle(\"../0_data/weather/marburg_weather.pkl\")\n",
    "duisburg_weather = pd.read_pickle(\"../0_data/weather/duisburg_weather.pkl\")"
   ]
  },
  {
   "cell_type": "code",
   "execution_count": 99,
   "metadata": {},
   "outputs": [],
   "source": [
    "cloud_coverage.drop(cloud_coverage.columns.difference(['SDO_ID','Zeitstempel', 'Wert']), 1, inplace=True)\n",
    "wind_velocity.drop(wind_velocity.columns.difference(['SDO_ID','Zeitstempel', 'Wert']), 1, inplace=True)"
   ]
  },
  {
   "cell_type": "code",
   "execution_count": 100,
   "metadata": {},
   "outputs": [],
   "source": [
    "cloud_coverage[\"timestamp\"] = pd.to_datetime(cloud_coverage.Zeitstempel, format=\"%Y%m%d%H%M\")\n",
    "wind_velocity[\"timestamp\"] = pd.to_datetime(wind_velocity.Zeitstempel, format=\"%Y%m%d%H%M\")"
   ]
  },
  {
   "cell_type": "code",
   "execution_count": 102,
   "metadata": {},
   "outputs": [],
   "source": [
    "cloud_coverage.set_index(cloud_coverage[\"timestamp\"], inplace=True)\n",
    "wind_velocity.set_index(wind_velocity[\"timestamp\"], inplace=True)\n",
    "\n",
    "cloud_coverage.drop(['Zeitstempel'], 1,inplace=True)\n",
    "wind_velocity.drop(['Zeitstempel'], 1,inplace=True)"
   ]
  },
  {
   "cell_type": "code",
   "execution_count": 103,
   "metadata": {},
   "outputs": [],
   "source": [
    "cloud_coverage_duisburg = cloud_coverage[cloud_coverage['SDO_ID']==1303]\n",
    "cloud_coverage_marburg = cloud_coverage[cloud_coverage['SDO_ID']!=1303]\n",
    "\n",
    "wind_velocity_duisburg = wind_velocity[wind_velocity['SDO_ID']==1303]\n",
    "wind_velocity_marburg = wind_velocity[wind_velocity['SDO_ID']!=1303]"
   ]
  },
  {
   "cell_type": "code",
   "execution_count": 108,
   "metadata": {},
   "outputs": [
    {
     "name": "stdout",
     "output_type": "stream",
     "text": [
      "<class 'pandas.core.frame.DataFrame'>\n",
      "DatetimeIndex: 8767 entries, 2019-01-20 00:00:00 to 2020-01-20 23:00:00\n",
      "Data columns (total 3 columns):\n",
      " #   Column     Non-Null Count  Dtype         \n",
      "---  ------     --------------  -----         \n",
      " 0   SDO_ID     8767 non-null   int64         \n",
      " 1   Wert       8767 non-null   int64         \n",
      " 2   timestamp  8767 non-null   datetime64[ns]\n",
      "dtypes: datetime64[ns](1), int64(2)\n",
      "memory usage: 274.0 KB\n"
     ]
    }
   ],
   "source": [
    "cloud_coverage_duisburg.info()"
   ]
  },
  {
   "cell_type": "code",
   "execution_count": 109,
   "metadata": {},
   "outputs": [
    {
     "name": "stdout",
     "output_type": "stream",
     "text": [
      "                     SDO_ID  Wert timestamp\n",
      "timestamp                                  \n",
      "2019-02-11 20:00:00     NaN   NaN       NaT\n",
      "2019-02-12 00:00:00     NaN   NaN       NaT\n",
      "2019-02-12 04:00:00     NaN   NaN       NaT\n",
      "2019-02-12 19:00:00     NaN   NaN       NaT\n",
      "2019-02-13 03:00:00     NaN   NaN       NaT\n",
      "2019-02-13 09:00:00     NaN   NaN       NaT\n",
      "2019-07-23 00:00:00     NaN   NaN       NaT\n",
      "2019-07-23 02:00:00     NaN   NaN       NaT\n",
      "2019-07-23 04:00:00     NaN   NaN       NaT\n",
      "2019-07-23 05:00:00     NaN   NaN       NaT\n",
      "2019-07-23 06:00:00     NaN   NaN       NaT\n",
      "2019-07-23 07:00:00     NaN   NaN       NaT\n",
      "2019-07-24 02:00:00     NaN   NaN       NaT\n",
      "2019-09-15 04:00:00     NaN   NaN       NaT\n",
      "2019-10-26 05:00:00     NaN   NaN       NaT\n",
      "2019-10-26 11:00:00     NaN   NaN       NaT\n",
      "2019-10-26 16:00:00     NaN   NaN       NaT\n"
     ]
    }
   ],
   "source": [
    "print(cloud_coverage_duisburg.asfreq('h')[cloud_coverage_duisburg.asfreq('h')['Wert'].isnull()])\n",
    "cloud_coverage_duisburg = cloud_coverage_duisburg.asfreq('h', method='ffill')"
   ]
  },
  {
   "cell_type": "code",
   "execution_count": 111,
   "metadata": {},
   "outputs": [
    {
     "name": "stdout",
     "output_type": "stream",
     "text": [
      "                     SDO_ID  Wert timestamp\n",
      "timestamp                                  \n",
      "2019-02-02 04:00:00     NaN   NaN       NaT\n",
      "2019-02-10 00:00:00     NaN   NaN       NaT\n",
      "2019-02-20 11:00:00     NaN   NaN       NaT\n",
      "2019-02-26 08:00:00     NaN   NaN       NaT\n",
      "2019-02-26 11:00:00     NaN   NaN       NaT\n",
      "...                     ...   ...       ...\n",
      "2019-09-15 10:00:00     NaN   NaN       NaT\n",
      "2019-12-30 05:00:00     NaN   NaN       NaT\n",
      "2019-12-30 06:00:00     NaN   NaN       NaT\n",
      "2019-12-30 07:00:00     NaN   NaN       NaT\n",
      "2019-12-30 09:00:00     NaN   NaN       NaT\n",
      "\n",
      "[113 rows x 3 columns]\n"
     ]
    }
   ],
   "source": [
    "print(cloud_coverage_marburg.asfreq('h')[cloud_coverage_marburg.asfreq('h')['Wert'].isnull()])\n",
    "cloud_coverage_marburg = cloud_coverage_marburg.asfreq('h', method='ffill')"
   ]
  },
  {
   "cell_type": "code",
   "execution_count": 116,
   "metadata": {},
   "outputs": [
    {
     "name": "stdout",
     "output_type": "stream",
     "text": [
      "Empty DataFrame\n",
      "Columns: [SDO_ID, Wert, timestamp]\n",
      "Index: []\n"
     ]
    }
   ],
   "source": [
    "print(wind_velocity_duisburg.asfreq('h')[wind_velocity_duisburg.asfreq('h')['Wert'].isnull()])"
   ]
  },
  {
   "cell_type": "code",
   "execution_count": 117,
   "metadata": {},
   "outputs": [
    {
     "name": "stdout",
     "output_type": "stream",
     "text": [
      "                     SDO_ID  Wert timestamp\n",
      "timestamp                                  \n",
      "2019-06-03 15:00:00     NaN   NaN       NaT\n",
      "2019-06-03 16:00:00     NaN   NaN       NaT\n",
      "2019-06-03 17:00:00     NaN   NaN       NaT\n",
      "2019-06-03 18:00:00     NaN   NaN       NaT\n",
      "2019-06-03 19:00:00     NaN   NaN       NaT\n",
      "...                     ...   ...       ...\n",
      "2019-06-07 07:00:00     NaN   NaN       NaT\n",
      "2019-06-07 08:00:00     NaN   NaN       NaT\n",
      "2019-06-07 09:00:00     NaN   NaN       NaT\n",
      "2019-06-07 10:00:00     NaN   NaN       NaT\n",
      "2019-06-07 11:00:00     NaN   NaN       NaT\n",
      "\n",
      "[93 rows x 3 columns]\n"
     ]
    }
   ],
   "source": [
    "print(wind_velocity_marburg.asfreq('h')[wind_velocity_marburg.asfreq('h')['Wert'].isnull()])\n",
    "wind_velocity_marburg = wind_velocity_marburg.asfreq('h', method='ffill')"
   ]
  },
  {
   "cell_type": "code",
   "execution_count": 125,
   "metadata": {},
   "outputs": [],
   "source": [
    "marburg_weather['cloud_coverage'] = cloud_coverage_marburg['Wert']\n",
    "marburg_weather['wind_velocity'] = wind_velocity_marburg['Wert']\n",
    "\n",
    "duisburg_weather['cloud_coverage'] = cloud_coverage_duisburg['Wert']\n",
    "duisburg_weather['wind_velocity'] = wind_velocity_duisburg['Wert']"
   ]
  },
  {
   "cell_type": "code",
   "execution_count": 128,
   "metadata": {},
   "outputs": [],
   "source": [
    "duisburg_weather.to_pickle('../0_data/weather/duisburg_weather.pkl')\n",
    "marburg_weather.to_pickle('../0_data/weather/marburg_weather.pkl')"
   ]
  }
 ],
 "metadata": {
  "kernelspec": {
   "display_name": "Python 3",
   "language": "python",
   "name": "python3"
  },
  "language_info": {
   "codemirror_mode": {
    "name": "ipython",
    "version": 3
   },
   "file_extension": ".py",
   "mimetype": "text/x-python",
   "name": "python",
   "nbconvert_exporter": "python",
   "pygments_lexer": "ipython3",
   "version": "3.7.7"
  }
 },
 "nbformat": 4,
 "nbformat_minor": 4
}
