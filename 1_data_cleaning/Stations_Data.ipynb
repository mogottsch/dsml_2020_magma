{
 "cells": [
  {
   "cell_type": "code",
   "execution_count": 16,
   "metadata": {},
   "outputs": [],
   "source": [
    "# import all relevant libraries\n",
    "import pandas as pd\n",
    "import numpy as np\n",
    "import matplotlib.pyplot as plt\n",
    "import seaborn as sns\n",
    "import folium\n",
    "from folium import plugins\n",
    "from folium.plugins import HeatMap\n",
    "from datetime import datetime\n",
    "from datetime import timedelta\n",
    "import math\n",
    "import random\n",
    "import timeit"
   ]
  },
  {
   "cell_type": "code",
   "execution_count": 17,
   "metadata": {},
   "outputs": [],
   "source": [
    "import urllib.request, json "
   ]
  },
  {
   "cell_type": "code",
   "execution_count": 18,
   "metadata": {},
   "outputs": [],
   "source": [
    "# duisburg data\n",
    "# we simply send the API the request parameter city with the value 132, which is duisburgs city ID\n",
    "# city IDs can be found here https://api.nextbike.net/maps/nextbike-live.json?list_cities=1\n",
    "with urllib.request.urlopen(\"https://api.nextbike.net/maps/nextbike-live.json?city=132\") as url:\n",
    "    duisburg_stations_data = json.loads(url.read().decode())"
   ]
  },
  {
   "cell_type": "code",
   "execution_count": 19,
   "metadata": {},
   "outputs": [],
   "source": [
    "# muelheim data\n",
    "with urllib.request.urlopen(\"https://api.nextbike.net/maps/nextbike-live.json?city=137\") as url:\n",
    "    muelheim_stations_data = json.loads(url.read().decode())"
   ]
  },
  {
   "cell_type": "code",
   "execution_count": 20,
   "metadata": {},
   "outputs": [],
   "source": [
    "# now we will go through the data, which is internally now stored as dictionary\n",
    "# we will save all stations data in a list called duisburg_city_stations\n",
    "# we also delete some key/value pairs, because they store lists, which will we cannot display in a dataframe\n",
    "# notice that we only use stations, which have 'spot' set to true\n",
    "# as stated in nextbikes API documentation this means that this data is indeed a stations\n",
    "# places with 'spot' set to false, are locations where people left their bike unauthorised\n",
    "duisburg_city_stations = []\n",
    "for place in duisburg_stations_data['countries'][0]['cities'][0]['places']:\n",
    "    if place['spot'] == True:\n",
    "        del place['bike_list']\n",
    "        del place['bike_numbers']\n",
    "        del place['bike_types']\n",
    "        duisburg_city_stations.append(place)"
   ]
  },
  {
   "cell_type": "code",
   "execution_count": 21,
   "metadata": {},
   "outputs": [],
   "source": [
    "# same as above but for muelheim\n",
    "muelheim_stations = []\n",
    "for place in muelheim_stations_data['countries'][0]['cities'][0]['places']:\n",
    "    if place['spot'] == True:\n",
    "        del place['bike_list']\n",
    "        del place['bike_numbers']\n",
    "        del place['bike_types']\n",
    "        muelheim_stations.append(place)"
   ]
  },
  {
   "cell_type": "code",
   "execution_count": 22,
   "metadata": {},
   "outputs": [],
   "source": [
    "# now we will pass the data to dataframes\n",
    "muelheim_stations = pd.DataFrame(muelheim_stations)\n",
    "duisburg_city_stations = pd.DataFrame(duisburg_city_stations)"
   ]
  },
  {
   "cell_type": "code",
   "execution_count": 23,
   "metadata": {},
   "outputs": [],
   "source": [
    "# first we will join the latitude and longitude to one coordinates column\n",
    "muelheim_stations['coordinates'] = list(zip(muelheim_stations['lat'].round(4), muelheim_stations['lng'].round(4)))\n",
    "duisburg_city_stations['coordinates'] = list(zip(duisburg_city_stations['lat'].round(4), duisburg_city_stations['lng'].round(4)))"
   ]
  },
  {
   "cell_type": "code",
   "execution_count": null,
   "metadata": {},
   "outputs": [],
   "source": [
    "# we drop all columns except for coordinates and number\n",
    "# number is nextbikes internal id of a station, so we will use it as index\n",
    "muelheim_stations.drop(muelheim_stations.columns.difference(['coordinates', 'number']), 1, inplace=True)\n",
    "duisburg_city_stations.drop(duisburg_city_stations.columns.difference(['coordinates', 'number']), 1, inplace=True)\n",
    "muelheim_stations.set_index('number', inplace=True)\n",
    "duisburg_city_stations.set_index('number', inplace=True)"
   ]
  },
  {
   "cell_type": "code",
   "execution_count": 24,
   "metadata": {},
   "outputs": [
    {
     "ename": "NameError",
     "evalue": "name 'duisburg' is not defined",
     "output_type": "error",
     "traceback": [
      "\u001b[1;31m---------------------------------------------------------------------------\u001b[0m",
      "\u001b[1;31mNameError\u001b[0m                                 Traceback (most recent call last)",
      "\u001b[1;32m<ipython-input-24-a9b79ac50ecf>\u001b[0m in \u001b[0;36m<module>\u001b[1;34m\u001b[0m\n\u001b[0;32m      1\u001b[0m Du_map = folium.Map(location=(51.44, 6.83), #took the middle of limits as coordinates\n\u001b[0;32m      2\u001b[0m                        zoom_start=10, control_scale=True, max_zoom=20)\n\u001b[1;32m----> 3\u001b[1;33m \u001b[0mDu_map\u001b[0m\u001b[1;33m.\u001b[0m\u001b[0madd_child\u001b[0m\u001b[1;33m(\u001b[0m\u001b[0mplugins\u001b[0m\u001b[1;33m.\u001b[0m\u001b[0mHeatMap\u001b[0m\u001b[1;33m(\u001b[0m\u001b[0mduisburg\u001b[0m\u001b[1;33m[\u001b[0m\u001b[1;34m\"dest\"\u001b[0m\u001b[1;33m]\u001b[0m\u001b[1;33m,\u001b[0m \u001b[0mradius\u001b[0m\u001b[1;33m=\u001b[0m\u001b[1;36m15\u001b[0m\u001b[1;33m)\u001b[0m\u001b[1;33m)\u001b[0m \u001b[1;31m#adding heatmap points with the cleaned orig coordinates\u001b[0m\u001b[1;33m\u001b[0m\u001b[1;33m\u001b[0m\u001b[0m\n\u001b[0m\u001b[0;32m      4\u001b[0m \u001b[1;31m# Du_map.add_child(plugins.HeatMap(duisburg[\"dest\"], radius=15)) #adding heatmap points with the cleaned dest coordinates\u001b[0m\u001b[1;33m\u001b[0m\u001b[1;33m\u001b[0m\u001b[1;33m\u001b[0m\u001b[0m\n\u001b[0;32m      5\u001b[0m \u001b[0mmuelheim_stations_list\u001b[0m \u001b[1;33m=\u001b[0m \u001b[0mlist\u001b[0m\u001b[1;33m(\u001b[0m\u001b[0mmuelheim_stations\u001b[0m\u001b[1;33m[\u001b[0m\u001b[1;34m'coordinates'\u001b[0m\u001b[1;33m]\u001b[0m\u001b[1;33m)\u001b[0m\u001b[1;33m\u001b[0m\u001b[1;33m\u001b[0m\u001b[0m\n",
      "\u001b[1;31mNameError\u001b[0m: name 'duisburg' is not defined"
     ]
    }
   ],
   "source": [
    "# this will work as soon as the cleaned data is saved somewhere, so we can read it here again.\n",
    "# this will visualize both stations dataframe in a nice way\n",
    "\n",
    "Du_map = folium.Map(location=(51.44, 6.83), #took the middle of limits as coordinates\n",
    "                       zoom_start=10, control_scale=True, max_zoom=20)\n",
    "Du_map.add_child(plugins.HeatMap(duisburg[\"dest\"], radius=15)) #adding heatmap points with the cleaned orig coordinates\n",
    "# Du_map.add_child(plugins.HeatMap(duisburg[\"dest\"], radius=15)) #adding heatmap points with the cleaned dest coordinates\n",
    "muelheim_stations_list = list(muelheim_stations['coordinates'])\n",
    "duisburg_city_stations = list(duisburg_city_stations['coordinates'])\n",
    "positions = muelheim_stations_list + marburg_stations_list\n",
    "for position in positions:\n",
    "    folium.CircleMarker(radius=5, location=position, \n",
    "                                 color='black', fill_color='black').add_to(Du_map)\n",
    "Du_map #showing Map"
   ]
  },
  {
   "cell_type": "code",
   "execution_count": null,
   "metadata": {},
   "outputs": [],
   "source": [
    "# we now concat our data, so we have one dataframe which we will use for duisburgs data\n",
    "duisburg_stations = pd.concat([muelheim_stations, duisburg_city_stations])"
   ]
  },
  {
   "cell_type": "code",
   "execution_count": null,
   "metadata": {},
   "outputs": [],
   "source": [
    "duisburg_stations.index.rename('id', inplace=True)"
   ]
  },
  {
   "cell_type": "code",
   "execution_count": null,
   "metadata": {},
   "outputs": [],
   "source": [
    "duisburg_stations"
   ]
  },
  {
   "cell_type": "markdown",
   "metadata": {},
   "source": [
    "marburg"
   ]
  },
  {
   "cell_type": "code",
   "execution_count": 25,
   "metadata": {},
   "outputs": [],
   "source": [
    "\n",
    "with urllib.request.urlopen(\"https://api.nextbike.net/maps/nextbike-live.json?city=438\") as url:\n",
    "    marburg_stations_data = json.loads(url.read().decode())"
   ]
  },
  {
   "cell_type": "code",
   "execution_count": 26,
   "metadata": {},
   "outputs": [],
   "source": [
    "marburg_stations = []\n",
    "for place in marburg_stations_data['countries'][0]['cities'][0]['places']:\n",
    "    if place['spot'] == True:\n",
    "        del place['bike_list']\n",
    "        del place['bike_numbers']\n",
    "        del place['bike_types']\n",
    "        marburg_stations.append(place)"
   ]
  },
  {
   "cell_type": "code",
   "execution_count": 27,
   "metadata": {},
   "outputs": [],
   "source": [
    "marburg_stations = pd.DataFrame(marburg_stations)\n",
    "marburg_stations['coordinates'] = list(zip(marburg_stations['lat'].round(4), marburg_stations['lng'].round(4)))"
   ]
  },
  {
   "cell_type": "code",
   "execution_count": 28,
   "metadata": {},
   "outputs": [
    {
     "ename": "NameError",
     "evalue": "name 'marburg' is not defined",
     "output_type": "error",
     "traceback": [
      "\u001b[1;31m---------------------------------------------------------------------------\u001b[0m",
      "\u001b[1;31mNameError\u001b[0m                                 Traceback (most recent call last)",
      "\u001b[1;32m<ipython-input-28-adbf6014795e>\u001b[0m in \u001b[0;36m<module>\u001b[1;34m\u001b[0m\n\u001b[0;32m      1\u001b[0m Ma_map = folium.Map(location=(50.81, 8.74), #took the middle of limits as coordinates\n\u001b[0;32m      2\u001b[0m                        zoom_start=10, control_scale=True, max_zoom=20)\n\u001b[1;32m----> 3\u001b[1;33m \u001b[0mMa_map\u001b[0m\u001b[1;33m.\u001b[0m\u001b[0madd_child\u001b[0m\u001b[1;33m(\u001b[0m\u001b[0mplugins\u001b[0m\u001b[1;33m.\u001b[0m\u001b[0mHeatMap\u001b[0m\u001b[1;33m(\u001b[0m\u001b[0mmarburg\u001b[0m\u001b[1;33m[\u001b[0m\u001b[1;34m\"orig\"\u001b[0m\u001b[1;33m]\u001b[0m\u001b[1;33m,\u001b[0m \u001b[0mradius\u001b[0m\u001b[1;33m=\u001b[0m\u001b[1;36m15\u001b[0m\u001b[1;33m)\u001b[0m\u001b[1;33m)\u001b[0m \u001b[1;31m#adding heatmap points with the cleaned orig coordinates\u001b[0m\u001b[1;33m\u001b[0m\u001b[1;33m\u001b[0m\u001b[0m\n\u001b[0m\u001b[0;32m      4\u001b[0m \u001b[0mMa_map\u001b[0m\u001b[1;33m.\u001b[0m\u001b[0madd_child\u001b[0m\u001b[1;33m(\u001b[0m\u001b[0mplugins\u001b[0m\u001b[1;33m.\u001b[0m\u001b[0mHeatMap\u001b[0m\u001b[1;33m(\u001b[0m\u001b[0mmarburg\u001b[0m\u001b[1;33m[\u001b[0m\u001b[1;34m\"dest\"\u001b[0m\u001b[1;33m]\u001b[0m\u001b[1;33m,\u001b[0m \u001b[0mradius\u001b[0m\u001b[1;33m=\u001b[0m\u001b[1;36m15\u001b[0m\u001b[1;33m)\u001b[0m\u001b[1;33m)\u001b[0m \u001b[1;31m#adding heatmap points with the cleaned dest coordinates\u001b[0m\u001b[1;33m\u001b[0m\u001b[1;33m\u001b[0m\u001b[0m\n\u001b[0;32m      5\u001b[0m \u001b[0mmarburg_stations_list\u001b[0m \u001b[1;33m=\u001b[0m \u001b[0mlist\u001b[0m\u001b[1;33m(\u001b[0m\u001b[0mmarburg_stations\u001b[0m\u001b[1;33m[\u001b[0m\u001b[1;34m'coordinates'\u001b[0m\u001b[1;33m]\u001b[0m\u001b[1;33m)\u001b[0m\u001b[1;33m\u001b[0m\u001b[1;33m\u001b[0m\u001b[0m\n",
      "\u001b[1;31mNameError\u001b[0m: name 'marburg' is not defined"
     ]
    }
   ],
   "source": [
    "Ma_map = folium.Map(location=(50.81, 8.74), #took the middle of limits as coordinates\n",
    "                       zoom_start=10, control_scale=True, max_zoom=20)\n",
    "Ma_map.add_child(plugins.HeatMap(marburg[\"orig\"], radius=15)) #adding heatmap points with the cleaned orig coordinates\n",
    "Ma_map.add_child(plugins.HeatMap(marburg[\"dest\"], radius=15)) #adding heatmap points with the cleaned dest coordinates\n",
    "marburg_stations_list = list(marburg_stations['coordinates'])\n",
    "positions = marburg_stations_list \n",
    "for position in positions:\n",
    "    folium.CircleMarker(radius=5, location=position, \n",
    "                                 color='black', fill_color='black').add_to(Ma_map)\n",
    "    \n",
    "    \n",
    "Ma_map"
   ]
  },
  {
   "cell_type": "code",
   "execution_count": null,
   "metadata": {},
   "outputs": [],
   "source": []
  },
  {
   "cell_type": "code",
   "execution_count": null,
   "metadata": {},
   "outputs": [],
   "source": []
  }
 ],
 "metadata": {
  "kernelspec": {
   "display_name": "Python 3",
   "language": "python",
   "name": "python3"
  },
  "language_info": {
   "codemirror_mode": {
    "name": "ipython",
    "version": 3
   },
   "file_extension": ".py",
   "mimetype": "text/x-python",
   "name": "python",
   "nbconvert_exporter": "python",
   "pygments_lexer": "ipython3",
   "version": "3.7.6"
  }
 },
 "nbformat": 4,
 "nbformat_minor": 4
}
