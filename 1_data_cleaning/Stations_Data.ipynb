{
 "cells": [
  {
   "cell_type": "code",
   "execution_count": 1,
   "metadata": {},
   "outputs": [],
   "source": [
    "# import all relevant libraries\n",
    "import pandas as pd\n",
    "import numpy as np\n",
    "import matplotlib.pyplot as plt\n",
    "import seaborn as sns\n",
    "import folium\n",
    "from folium import plugins\n",
    "from folium.plugins import HeatMap\n",
    "from datetime import datetime\n",
    "from datetime import timedelta\n",
    "import math\n",
    "import random\n",
    "import timeit"
   ]
  },
  {
   "cell_type": "code",
   "execution_count": 2,
   "metadata": {},
   "outputs": [],
   "source": [
    "import urllib.request, json "
   ]
  },
  {
   "cell_type": "code",
   "execution_count": 3,
   "metadata": {},
   "outputs": [],
   "source": [
    "# duisburg data\n",
    "# we simply send the API the request parameter city with the value 132, which is duisburgs city ID\n",
    "# city IDs can be found here https://api.nextbike.net/maps/nextbike-live.json?list_cities=1\n",
    "with urllib.request.urlopen(\"https://api.nextbike.net/maps/nextbike-live.json?city=132\") as url:\n",
    "    duisburg_stations_data = json.loads(url.read().decode())"
   ]
  },
  {
   "cell_type": "code",
   "execution_count": 4,
   "metadata": {},
   "outputs": [],
   "source": [
    "# muelheim data\n",
    "with urllib.request.urlopen(\"https://api.nextbike.net/maps/nextbike-live.json?city=137\") as url:\n",
    "    muelheim_stations_data = json.loads(url.read().decode())"
   ]
  },
  {
   "cell_type": "code",
   "execution_count": 5,
   "metadata": {},
   "outputs": [],
   "source": [
    "# now we will go through the data, which is internally now stored as dictionary\n",
    "# we will save all stations data in a list called duisburg_city_stations\n",
    "# we also delete some key/value pairs, because they store lists, which will we cannot display in a dataframe\n",
    "# notice that we only use stations, which have 'spot' set to true\n",
    "# as stated in nextbikes API documentation this means that this data is indeed a stations\n",
    "# places with 'spot' set to false, are locations where people left their bike unauthorised\n",
    "duisburg_city_stations = []\n",
    "for place in duisburg_stations_data['countries'][0]['cities'][0]['places']:\n",
    "    if place['spot'] == True:\n",
    "        del place['bike_list']\n",
    "        del place['bike_numbers']\n",
    "        del place['bike_types']\n",
    "        duisburg_city_stations.append(place)"
   ]
  },
  {
   "cell_type": "code",
   "execution_count": 6,
   "metadata": {},
   "outputs": [],
   "source": [
    "# same as above but for muelheim\n",
    "muelheim_stations = []\n",
    "for place in muelheim_stations_data['countries'][0]['cities'][0]['places']:\n",
    "    if place['spot'] == True:\n",
    "        del place['bike_list']\n",
    "        del place['bike_numbers']\n",
    "        del place['bike_types']\n",
    "        muelheim_stations.append(place)"
   ]
  },
  {
   "cell_type": "code",
   "execution_count": 7,
   "metadata": {},
   "outputs": [],
   "source": [
    "# now we will pass the data to dataframes\n",
    "muelheim_stations = pd.DataFrame(muelheim_stations)\n",
    "duisburg_city_stations = pd.DataFrame(duisburg_city_stations)"
   ]
  },
  {
   "cell_type": "code",
   "execution_count": 8,
   "metadata": {},
   "outputs": [],
   "source": [
    "# first we will join the latitude and longitude to one coordinates column\n",
    "muelheim_stations['coordinates'] = list(zip(muelheim_stations['lat'].round(4), muelheim_stations['lng'].round(4)))\n",
    "duisburg_city_stations['coordinates'] = list(zip(duisburg_city_stations['lat'].round(4), duisburg_city_stations['lng'].round(4)))"
   ]
  },
  {
   "cell_type": "code",
   "execution_count": 9,
   "metadata": {},
   "outputs": [],
   "source": [
    "# we drop all columns except for coordinates and number\n",
    "# number is nextbikes internal id of a station, so we will use it as index\n",
    "muelheim_stations.drop(muelheim_stations.columns.difference(['coordinates', 'number']), 1, inplace=True)\n",
    "duisburg_city_stations.drop(duisburg_city_stations.columns.difference(['coordinates', 'number']), 1, inplace=True)\n",
    "muelheim_stations.set_index('number', inplace=True)\n",
    "duisburg_city_stations.set_index('number', inplace=True)"
   ]
  },
  {
   "cell_type": "code",
   "execution_count": 12,
   "metadata": {},
   "outputs": [
    {
     "ename": "NameError",
     "evalue": "name 'duisburg' is not defined",
     "output_type": "error",
     "traceback": [
      "\u001b[1;31m---------------------------------------------------------------------------\u001b[0m",
      "\u001b[1;31mNameError\u001b[0m                                 Traceback (most recent call last)",
      "\u001b[1;32m<ipython-input-12-e121f5a52b8c>\u001b[0m in \u001b[0;36m<module>\u001b[1;34m\u001b[0m\n\u001b[0;32m      4\u001b[0m Du_map = folium.Map(location=(51.44, 6.83), #took the middle of limits as coordinates\n\u001b[0;32m      5\u001b[0m                        zoom_start=10, control_scale=True, max_zoom=20)\n\u001b[1;32m----> 6\u001b[1;33m \u001b[0mDu_map\u001b[0m\u001b[1;33m.\u001b[0m\u001b[0madd_child\u001b[0m\u001b[1;33m(\u001b[0m\u001b[0mplugins\u001b[0m\u001b[1;33m.\u001b[0m\u001b[0mHeatMap\u001b[0m\u001b[1;33m(\u001b[0m\u001b[0mduisburg\u001b[0m\u001b[1;33m[\u001b[0m\u001b[1;34m\"dest\"\u001b[0m\u001b[1;33m]\u001b[0m\u001b[1;33m,\u001b[0m \u001b[0mradius\u001b[0m\u001b[1;33m=\u001b[0m\u001b[1;36m15\u001b[0m\u001b[1;33m)\u001b[0m\u001b[1;33m)\u001b[0m \u001b[1;31m#adding heatmap points with the cleaned orig coordinates\u001b[0m\u001b[1;33m\u001b[0m\u001b[1;33m\u001b[0m\u001b[0m\n\u001b[0m\u001b[0;32m      7\u001b[0m \u001b[1;31m# Du_map.add_child(plugins.HeatMap(duisburg[\"dest\"], radius=15)) #adding heatmap points with the cleaned dest coordinates\u001b[0m\u001b[1;33m\u001b[0m\u001b[1;33m\u001b[0m\u001b[1;33m\u001b[0m\u001b[0m\n\u001b[0;32m      8\u001b[0m \u001b[0mmuelheim_stations_list\u001b[0m \u001b[1;33m=\u001b[0m \u001b[0mlist\u001b[0m\u001b[1;33m(\u001b[0m\u001b[0mmuelheim_stations\u001b[0m\u001b[1;33m[\u001b[0m\u001b[1;34m'coordinates'\u001b[0m\u001b[1;33m]\u001b[0m\u001b[1;33m)\u001b[0m\u001b[1;33m\u001b[0m\u001b[1;33m\u001b[0m\u001b[0m\n",
      "\u001b[1;31mNameError\u001b[0m: name 'duisburg' is not defined"
     ]
    }
   ],
   "source": [
    "# this will work as soon as the cleaned data is saved somewhere, so we can read it here again.\n",
    "# this will visualize both stations dataframe in a nice way\n",
    "\n",
    "Du_map = folium.Map(location=(51.44, 6.83), #took the middle of limits as coordinates\n",
    "                       zoom_start=10, control_scale=True, max_zoom=20)\n",
    "Du_map.add_child(plugins.HeatMap(duisburg[\"dest\"], radius=15)) #adding heatmap points with the cleaned orig coordinates\n",
    "# Du_map.add_child(plugins.HeatMap(duisburg[\"dest\"], radius=15)) #adding heatmap points with the cleaned dest coordinates\n",
    "muelheim_stations_list = list(muelheim_stations['coordinates'])\n",
    "duisburg_city_stations = list(duisburg_city_stations['coordinates'])\n",
    "positions = muelheim_stations_list + marburg_stations_list\n",
    "for position in positions:\n",
    "    folium.CircleMarker(radius=5, location=position, \n",
    "                                 color='black', fill_color='black').add_to(Du_map)\n",
    "Du_map #showing Map"
   ]
  },
  {
   "cell_type": "code",
   "execution_count": 13,
   "metadata": {},
   "outputs": [],
   "source": [
    "# we now concat our data, so we have one dataframe which we will use for duisburgs data\n",
    "duisburg_stations = pd.concat([muelheim_stations, duisburg_city_stations])"
   ]
  },
  {
   "cell_type": "code",
   "execution_count": 14,
   "metadata": {},
   "outputs": [],
   "source": [
    "duisburg_stations.index.rename('id', inplace=True)"
   ]
  },
  {
   "cell_type": "code",
   "execution_count": 15,
   "metadata": {},
   "outputs": [
    {
     "data": {
      "text/html": [
       "<div>\n",
       "<style scoped>\n",
       "    .dataframe tbody tr th:only-of-type {\n",
       "        vertical-align: middle;\n",
       "    }\n",
       "\n",
       "    .dataframe tbody tr th {\n",
       "        vertical-align: top;\n",
       "    }\n",
       "\n",
       "    .dataframe thead th {\n",
       "        text-align: right;\n",
       "    }\n",
       "</style>\n",
       "<table border=\"1\" class=\"dataframe\">\n",
       "  <thead>\n",
       "    <tr style=\"text-align: right;\">\n",
       "      <th></th>\n",
       "      <th>coordinates</th>\n",
       "    </tr>\n",
       "    <tr>\n",
       "      <th>id</th>\n",
       "      <th></th>\n",
       "    </tr>\n",
       "  </thead>\n",
       "  <tbody>\n",
       "    <tr>\n",
       "      <th>7901</th>\n",
       "      <td>(51.4225, 6.8759)</td>\n",
       "    </tr>\n",
       "    <tr>\n",
       "      <th>7903</th>\n",
       "      <td>(51.4299, 6.8861)</td>\n",
       "    </tr>\n",
       "    <tr>\n",
       "      <th>7904</th>\n",
       "      <td>(51.428, 6.8845)</td>\n",
       "    </tr>\n",
       "    <tr>\n",
       "      <th>7910</th>\n",
       "      <td>(51.4269, 6.8801)</td>\n",
       "    </tr>\n",
       "    <tr>\n",
       "      <th>7912</th>\n",
       "      <td>(51.425, 6.8818)</td>\n",
       "    </tr>\n",
       "    <tr>\n",
       "      <th>...</th>\n",
       "      <td>...</td>\n",
       "    </tr>\n",
       "    <tr>\n",
       "      <th>7429</th>\n",
       "      <td>(51.4284, 6.8004)</td>\n",
       "    </tr>\n",
       "    <tr>\n",
       "      <th>7428</th>\n",
       "      <td>(51.3849, 6.8002)</td>\n",
       "    </tr>\n",
       "    <tr>\n",
       "      <th>7439</th>\n",
       "      <td>(51.4208, 6.7841)</td>\n",
       "    </tr>\n",
       "    <tr>\n",
       "      <th>7438</th>\n",
       "      <td>(51.4244, 6.7546)</td>\n",
       "    </tr>\n",
       "    <tr>\n",
       "      <th>7431</th>\n",
       "      <td>(51.4104, 6.7521)</td>\n",
       "    </tr>\n",
       "  </tbody>\n",
       "</table>\n",
       "<p>69 rows × 1 columns</p>\n",
       "</div>"
      ],
      "text/plain": [
       "            coordinates\n",
       "id                     \n",
       "7901  (51.4225, 6.8759)\n",
       "7903  (51.4299, 6.8861)\n",
       "7904   (51.428, 6.8845)\n",
       "7910  (51.4269, 6.8801)\n",
       "7912   (51.425, 6.8818)\n",
       "...                 ...\n",
       "7429  (51.4284, 6.8004)\n",
       "7428  (51.3849, 6.8002)\n",
       "7439  (51.4208, 6.7841)\n",
       "7438  (51.4244, 6.7546)\n",
       "7431  (51.4104, 6.7521)\n",
       "\n",
       "[69 rows x 1 columns]"
      ]
     },
     "execution_count": 15,
     "metadata": {},
     "output_type": "execute_result"
    }
   ],
   "source": [
    "duisburg_stations"
   ]
  },
  {
   "cell_type": "markdown",
   "metadata": {},
   "source": [
    "marburg"
   ]
  },
  {
   "cell_type": "code",
   "execution_count": 16,
   "metadata": {},
   "outputs": [],
   "source": [
    "\n",
    "with urllib.request.urlopen(\"https://api.nextbike.net/maps/nextbike-live.json?city=438\") as url:\n",
    "    marburg_stations_data = json.loads(url.read().decode())"
   ]
  },
  {
   "cell_type": "code",
   "execution_count": 17,
   "metadata": {},
   "outputs": [],
   "source": [
    "marburg_stations = []\n",
    "for place in marburg_stations_data['countries'][0]['cities'][0]['places']:\n",
    "    if place['spot'] == True:\n",
    "        del place['bike_list']\n",
    "        del place['bike_numbers']\n",
    "        del place['bike_types']\n",
    "        marburg_stations.append(place)"
   ]
  },
  {
   "cell_type": "code",
   "execution_count": 18,
   "metadata": {},
   "outputs": [],
   "source": [
    "marburg_stations = pd.DataFrame(marburg_stations)\n",
    "marburg_stations['coordinates'] = list(zip(marburg_stations['lat'].round(4), marburg_stations['lng'].round(4)))"
   ]
  },
  {
   "cell_type": "code",
   "execution_count": 19,
   "metadata": {},
   "outputs": [],
   "source": [
    "marburg = pd.read_csv(\"../data/marburg_clean.csv\")"
   ]
  },
  {
   "cell_type": "code",
   "execution_count": 21,
   "metadata": {},
   "outputs": [
    {
     "data": {
      "text/plain": [
       "str"
      ]
     },
     "execution_count": 21,
     "metadata": {},
     "output_type": "execute_result"
    }
   ],
   "source": [
    "type(marburg['orig'][0])"
   ]
  },
  {
   "cell_type": "code",
   "execution_count": 20,
   "metadata": {},
   "outputs": [
    {
     "ename": "ValueError",
     "evalue": "Location should consist of two numerical values, but '(' of type <class 'str'> is not convertible to float.",
     "output_type": "error",
     "traceback": [
      "\u001b[1;31m---------------------------------------------------------------------------\u001b[0m",
      "\u001b[1;31mValueError\u001b[0m                                Traceback (most recent call last)",
      "\u001b[1;32mC:\\Dev\\Programme\\anaconda3\\lib\\site-packages\\folium\\utilities.py\u001b[0m in \u001b[0;36mvalidate_location\u001b[1;34m(location)\u001b[0m\n\u001b[0;32m     58\u001b[0m         \u001b[1;32mtry\u001b[0m\u001b[1;33m:\u001b[0m\u001b[1;33m\u001b[0m\u001b[1;33m\u001b[0m\u001b[0m\n\u001b[1;32m---> 59\u001b[1;33m             \u001b[0mfloat\u001b[0m\u001b[1;33m(\u001b[0m\u001b[0mcoord\u001b[0m\u001b[1;33m)\u001b[0m\u001b[1;33m\u001b[0m\u001b[1;33m\u001b[0m\u001b[0m\n\u001b[0m\u001b[0;32m     60\u001b[0m         \u001b[1;32mexcept\u001b[0m \u001b[1;33m(\u001b[0m\u001b[0mTypeError\u001b[0m\u001b[1;33m,\u001b[0m \u001b[0mValueError\u001b[0m\u001b[1;33m)\u001b[0m\u001b[1;33m:\u001b[0m\u001b[1;33m\u001b[0m\u001b[1;33m\u001b[0m\u001b[0m\n",
      "\u001b[1;31mValueError\u001b[0m: could not convert string to float: '('",
      "\nDuring handling of the above exception, another exception occurred:\n",
      "\u001b[1;31mValueError\u001b[0m                                Traceback (most recent call last)",
      "\u001b[1;32m<ipython-input-20-adbf6014795e>\u001b[0m in \u001b[0;36m<module>\u001b[1;34m\u001b[0m\n\u001b[0;32m      1\u001b[0m Ma_map = folium.Map(location=(50.81, 8.74), #took the middle of limits as coordinates\n\u001b[0;32m      2\u001b[0m                        zoom_start=10, control_scale=True, max_zoom=20)\n\u001b[1;32m----> 3\u001b[1;33m \u001b[0mMa_map\u001b[0m\u001b[1;33m.\u001b[0m\u001b[0madd_child\u001b[0m\u001b[1;33m(\u001b[0m\u001b[0mplugins\u001b[0m\u001b[1;33m.\u001b[0m\u001b[0mHeatMap\u001b[0m\u001b[1;33m(\u001b[0m\u001b[0mmarburg\u001b[0m\u001b[1;33m[\u001b[0m\u001b[1;34m\"orig\"\u001b[0m\u001b[1;33m]\u001b[0m\u001b[1;33m,\u001b[0m \u001b[0mradius\u001b[0m\u001b[1;33m=\u001b[0m\u001b[1;36m15\u001b[0m\u001b[1;33m)\u001b[0m\u001b[1;33m)\u001b[0m \u001b[1;31m#adding heatmap points with the cleaned orig coordinates\u001b[0m\u001b[1;33m\u001b[0m\u001b[1;33m\u001b[0m\u001b[0m\n\u001b[0m\u001b[0;32m      4\u001b[0m \u001b[0mMa_map\u001b[0m\u001b[1;33m.\u001b[0m\u001b[0madd_child\u001b[0m\u001b[1;33m(\u001b[0m\u001b[0mplugins\u001b[0m\u001b[1;33m.\u001b[0m\u001b[0mHeatMap\u001b[0m\u001b[1;33m(\u001b[0m\u001b[0mmarburg\u001b[0m\u001b[1;33m[\u001b[0m\u001b[1;34m\"dest\"\u001b[0m\u001b[1;33m]\u001b[0m\u001b[1;33m,\u001b[0m \u001b[0mradius\u001b[0m\u001b[1;33m=\u001b[0m\u001b[1;36m15\u001b[0m\u001b[1;33m)\u001b[0m\u001b[1;33m)\u001b[0m \u001b[1;31m#adding heatmap points with the cleaned dest coordinates\u001b[0m\u001b[1;33m\u001b[0m\u001b[1;33m\u001b[0m\u001b[0m\n\u001b[0;32m      5\u001b[0m \u001b[0mmarburg_stations_list\u001b[0m \u001b[1;33m=\u001b[0m \u001b[0mlist\u001b[0m\u001b[1;33m(\u001b[0m\u001b[0mmarburg_stations\u001b[0m\u001b[1;33m[\u001b[0m\u001b[1;34m'coordinates'\u001b[0m\u001b[1;33m]\u001b[0m\u001b[1;33m)\u001b[0m\u001b[1;33m\u001b[0m\u001b[1;33m\u001b[0m\u001b[0m\n",
      "\u001b[1;32mC:\\Dev\\Programme\\anaconda3\\lib\\site-packages\\folium\\plugins\\heat_map.py\u001b[0m in \u001b[0;36m__init__\u001b[1;34m(self, data, name, min_opacity, max_zoom, max_val, radius, blur, gradient, overlay, control, show, **kwargs)\u001b[0m\n\u001b[0;32m     65\u001b[0m         \u001b[0mdata\u001b[0m \u001b[1;33m=\u001b[0m \u001b[0mif_pandas_df_convert_to_numpy\u001b[0m\u001b[1;33m(\u001b[0m\u001b[0mdata\u001b[0m\u001b[1;33m)\u001b[0m\u001b[1;33m\u001b[0m\u001b[1;33m\u001b[0m\u001b[0m\n\u001b[0;32m     66\u001b[0m         self.data = [[*validate_location(line[:2]), *line[2:]]  # noqa: E999\n\u001b[1;32m---> 67\u001b[1;33m                      for line in data]\n\u001b[0m\u001b[0;32m     68\u001b[0m         \u001b[1;32mif\u001b[0m \u001b[0mnp\u001b[0m\u001b[1;33m.\u001b[0m\u001b[0many\u001b[0m\u001b[1;33m(\u001b[0m\u001b[0mnp\u001b[0m\u001b[1;33m.\u001b[0m\u001b[0misnan\u001b[0m\u001b[1;33m(\u001b[0m\u001b[0mself\u001b[0m\u001b[1;33m.\u001b[0m\u001b[0mdata\u001b[0m\u001b[1;33m)\u001b[0m\u001b[1;33m)\u001b[0m\u001b[1;33m:\u001b[0m\u001b[1;33m\u001b[0m\u001b[1;33m\u001b[0m\u001b[0m\n\u001b[0;32m     69\u001b[0m             \u001b[1;32mraise\u001b[0m \u001b[0mValueError\u001b[0m\u001b[1;33m(\u001b[0m\u001b[1;34m'data may not contain NaNs.'\u001b[0m\u001b[1;33m)\u001b[0m\u001b[1;33m\u001b[0m\u001b[1;33m\u001b[0m\u001b[0m\n",
      "\u001b[1;32mC:\\Dev\\Programme\\anaconda3\\lib\\site-packages\\folium\\plugins\\heat_map.py\u001b[0m in \u001b[0;36m<listcomp>\u001b[1;34m(.0)\u001b[0m\n\u001b[0;32m     65\u001b[0m         \u001b[0mdata\u001b[0m \u001b[1;33m=\u001b[0m \u001b[0mif_pandas_df_convert_to_numpy\u001b[0m\u001b[1;33m(\u001b[0m\u001b[0mdata\u001b[0m\u001b[1;33m)\u001b[0m\u001b[1;33m\u001b[0m\u001b[1;33m\u001b[0m\u001b[0m\n\u001b[0;32m     66\u001b[0m         self.data = [[*validate_location(line[:2]), *line[2:]]  # noqa: E999\n\u001b[1;32m---> 67\u001b[1;33m                      for line in data]\n\u001b[0m\u001b[0;32m     68\u001b[0m         \u001b[1;32mif\u001b[0m \u001b[0mnp\u001b[0m\u001b[1;33m.\u001b[0m\u001b[0many\u001b[0m\u001b[1;33m(\u001b[0m\u001b[0mnp\u001b[0m\u001b[1;33m.\u001b[0m\u001b[0misnan\u001b[0m\u001b[1;33m(\u001b[0m\u001b[0mself\u001b[0m\u001b[1;33m.\u001b[0m\u001b[0mdata\u001b[0m\u001b[1;33m)\u001b[0m\u001b[1;33m)\u001b[0m\u001b[1;33m:\u001b[0m\u001b[1;33m\u001b[0m\u001b[1;33m\u001b[0m\u001b[0m\n\u001b[0;32m     69\u001b[0m             \u001b[1;32mraise\u001b[0m \u001b[0mValueError\u001b[0m\u001b[1;33m(\u001b[0m\u001b[1;34m'data may not contain NaNs.'\u001b[0m\u001b[1;33m)\u001b[0m\u001b[1;33m\u001b[0m\u001b[1;33m\u001b[0m\u001b[0m\n",
      "\u001b[1;32mC:\\Dev\\Programme\\anaconda3\\lib\\site-packages\\folium\\utilities.py\u001b[0m in \u001b[0;36mvalidate_location\u001b[1;34m(location)\u001b[0m\n\u001b[0;32m     61\u001b[0m             raise ValueError('Location should consist of two numerical values, '\n\u001b[0;32m     62\u001b[0m                              \u001b[1;34m'but {!r} of type {} is not convertible to float.'\u001b[0m\u001b[1;33m\u001b[0m\u001b[1;33m\u001b[0m\u001b[0m\n\u001b[1;32m---> 63\u001b[1;33m                              .format(coord, type(coord)))\n\u001b[0m\u001b[0;32m     64\u001b[0m         \u001b[1;32mif\u001b[0m \u001b[0mmath\u001b[0m\u001b[1;33m.\u001b[0m\u001b[0misnan\u001b[0m\u001b[1;33m(\u001b[0m\u001b[0mfloat\u001b[0m\u001b[1;33m(\u001b[0m\u001b[0mcoord\u001b[0m\u001b[1;33m)\u001b[0m\u001b[1;33m)\u001b[0m\u001b[1;33m:\u001b[0m\u001b[1;33m\u001b[0m\u001b[1;33m\u001b[0m\u001b[0m\n\u001b[0;32m     65\u001b[0m             \u001b[1;32mraise\u001b[0m \u001b[0mValueError\u001b[0m\u001b[1;33m(\u001b[0m\u001b[1;34m'Location values cannot contain NaNs.'\u001b[0m\u001b[1;33m)\u001b[0m\u001b[1;33m\u001b[0m\u001b[1;33m\u001b[0m\u001b[0m\n",
      "\u001b[1;31mValueError\u001b[0m: Location should consist of two numerical values, but '(' of type <class 'str'> is not convertible to float."
     ]
    }
   ],
   "source": [
    "Ma_map = folium.Map(location=(50.81, 8.74), #took the middle of limits as coordinates\n",
    "                       zoom_start=10, control_scale=True, max_zoom=20)\n",
    "Ma_map.add_child(plugins.HeatMap(marburg[\"orig\"], radius=15)) #adding heatmap points with the cleaned orig coordinates\n",
    "Ma_map.add_child(plugins.HeatMap(marburg[\"dest\"], radius=15)) #adding heatmap points with the cleaned dest coordinates\n",
    "marburg_stations_list = list(marburg_stations['coordinates'])\n",
    "positions = marburg_stations_list \n",
    "for position in positions:\n",
    "    folium.CircleMarker(radius=5, location=position, \n",
    "                                 color='black', fill_color='black').add_to(Ma_map)\n",
    "    \n",
    "    \n",
    "Ma_map"
   ]
  },
  {
   "cell_type": "code",
   "execution_count": null,
   "metadata": {},
   "outputs": [],
   "source": []
  },
  {
   "cell_type": "code",
   "execution_count": null,
   "metadata": {},
   "outputs": [],
   "source": []
  }
 ],
 "metadata": {
  "kernelspec": {
   "display_name": "Python 3",
   "language": "python",
   "name": "python3"
  },
  "language_info": {
   "codemirror_mode": {
    "name": "ipython",
    "version": 3
   },
   "file_extension": ".py",
   "mimetype": "text/x-python",
   "name": "python",
   "nbconvert_exporter": "python",
   "pygments_lexer": "ipython3",
   "version": "3.7.6"
  }
 },
 "nbformat": 4,
 "nbformat_minor": 4
}
