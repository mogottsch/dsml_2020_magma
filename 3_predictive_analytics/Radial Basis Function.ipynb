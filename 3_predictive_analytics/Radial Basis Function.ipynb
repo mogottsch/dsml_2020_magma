{
 "cells": [
  {
   "cell_type": "markdown",
   "metadata": {},
   "source": [
    "# Import Statements"
   ]
  },
  {
   "cell_type": "code",
   "execution_count": 179,
   "metadata": {},
   "outputs": [],
   "source": [
    "import pandas as pd\n",
    "import numpy as np\n",
    "import matplotlib.pyplot as plt\n",
    "import seaborn as sns\n",
    "from datetime import datetime\n",
    "from datetime import timedelta\n",
    "import math\n",
    "import random\n",
    "import timeit\n",
    "\n",
    "from sklearn.model_selection import train_test_split\n",
    "from sklearn.kernel_ridge import KernelRidge\n",
    "from sklearn.gaussian_process.kernels import RBF\n",
    "from sklearn.metrics import mean_squared_error, mean_absolute_error, r2_score"
   ]
  },
  {
   "cell_type": "markdown",
   "metadata": {},
   "source": [
    "---"
   ]
  },
  {
   "cell_type": "code",
   "execution_count": 180,
   "metadata": {},
   "outputs": [],
   "source": [
    "marburg = pd.read_pickle(\"../0_data/marburg_clean.pkl\")\n",
    "duisburg = pd.read_pickle('../0_data/duisburg_clean.pkl')\n",
    "marburg_weather = pd.read_pickle(\"../0_data/weather/marburg_weather.pkl\")\n",
    "duisburg_weather = pd.read_pickle(\"../0_data/weather/duisburg_weather.pkl\")"
   ]
  },
  {
   "cell_type": "markdown",
   "metadata": {},
   "source": [
    "# Radial Basis Function"
   ]
  },
  {
   "cell_type": "markdown",
   "metadata": {},
   "source": [
    "We use the Kernel Ridge Regression Model from scikit-learn."
   ]
  },
  {
   "cell_type": "code",
   "execution_count": 181,
   "metadata": {},
   "outputs": [],
   "source": [
    "def rbf_ridge_model(sigma, alpha):\n",
    "    rbf_ridge = KernelRidge(alpha=alpha, kernel=RBF(sigma))\n",
    "    rbf_ridge.fit(X_train, y_train)\n",
    "    \n",
    "    return rbf_ridge"
   ]
  },
  {
   "cell_type": "markdown",
   "metadata": {},
   "source": [
    "The function *calc_errors* calculates the Mean Squared Error for the model above using different values for bandwidth $\\sigma$ and the regularization parameter $\\alpha$.  \n",
    "These values are determined by *sigma_range* and *alpha_range*.  \n",
    "It returns a dataframe with the used alpha_range as columns and sigma_range as index. The cells contain the corresponding mean squared error on the validation data."
   ]
  },
  {
   "cell_type": "code",
   "execution_count": 182,
   "metadata": {},
   "outputs": [],
   "source": [
    "def calc_errors(sigma_range, alpha_range):\n",
    "    sigma_length = len(sigma_range)\n",
    "    alpha_length = len(alpha_range)\n",
    "\n",
    "    errors_arr = np.empty((sigma_length, alpha_length))\n",
    "    for i, sigma in enumerate(sigma_range):\n",
    "        for j, alpha in enumerate(alpha_range):\n",
    "            errors_arr[i][j] = mean_squared_error(rbf_ridge_model(sigma, alpha).predict(X_val), y_val)\n",
    "    \n",
    "    errors = pd.DataFrame(errors_arr, columns = alpha_range, index = sigma_range)\n",
    "\n",
    "    return errors.sort_index(ascending=False)"
   ]
  },
  {
   "cell_type": "markdown",
   "metadata": {},
   "source": [
    "The function *split_data* splits the given dataset in train, hold and test datasets of respective sizes of 50%, 20% and 30%."
   ]
  },
  {
   "cell_type": "code",
   "execution_count": 183,
   "metadata": {},
   "outputs": [],
   "source": [
    "def split_data(X, y):\n",
    "    # Do a 50-50 split first\n",
    "    X_train, X_test, y_train, y_test = train_test_split(X, y, test_size=0.5,random_state=34)\n",
    "\n",
    "    # Now split X_test to achive 50-20-30 split\n",
    "    X_test, X_val, y_test, y_val = train_test_split(X_test, y_test, test_size=(0.2/0.5),random_state=34)\n",
    "\n",
    "    for name, data in {'train': X_train, 'validation': X_val, 'test': X_test}.items():\n",
    "        print(\"\"\"{}\n",
    "        {} entries\n",
    "        ~{:.2f}% of total data\n",
    "\n",
    "        \"\"\".format(name, len(data), len(data)/len(X)))\n",
    "        \n",
    "    return X_train, X_val, X_test, y_train, y_val, y_test "
   ]
  },
  {
   "cell_type": "code",
   "execution_count": 184,
   "metadata": {},
   "outputs": [],
   "source": [
    "def evaluate_model(model):\n",
    "    mse = mean_squared_error(model.predict(X_test), y_test)\n",
    "    mae = mean_absolute_error(model.predict(X_test), y_test)\n",
    "    r2 = r2_score(model.predict(X_test), y_test)\n",
    "\n",
    "    print(\"\"\"Evaluation of model\n",
    "\n",
    "    Mean-Squared-Error:             {:8.4f}\n",
    "    Mean-Absolute-Error:            {:8.4f}\n",
    "    \n",
    "    Coefficient of determination:   {:8.4f} %\n",
    "    \"\"\".format(mse, mae, r2*100))"
   ]
  },
  {
   "cell_type": "markdown",
   "metadata": {},
   "source": [
    "## Marburg"
   ]
  },
  {
   "cell_type": "markdown",
   "metadata": {},
   "source": [
    "We start by preparing the dataframe.  \n",
    "First we resample the given data hourly.  \n",
    "Then we extract some time related features from the datetime index and merge the resulting dataframe witht the weather data."
   ]
  },
  {
   "cell_type": "code",
   "execution_count": 185,
   "metadata": {},
   "outputs": [],
   "source": [
    "# peak demand\n",
    "ma = pd.DataFrame(marburg.resample('H').count()[\"day\"])\n",
    "ma.rename(columns={'day': 'demand'}, inplace=True)\n",
    "\n",
    "ma['dayofyear'] = ma.index.map(lambda datetime : datetime.dayofyear)\n",
    "ma['week'] = ma.index.map(lambda datetime : datetime.week)\n",
    "ma['weekday'] = ma.index.map(lambda datetime : datetime.weekday)\n",
    "ma['is_weekday'] = ma['weekday'].map(lambda day : day < 5)\n",
    "ma['hour'] = ma.index.map(lambda datetime : datetime.hour)\n",
    "\n",
    "ma = ma.merge(marburg_weather, left_index=True, right_index=True)"
   ]
  },
  {
   "cell_type": "code",
   "execution_count": 186,
   "metadata": {},
   "outputs": [],
   "source": [
    "X = ma[['temperature', 'hour', 'precipitation', 'dayofyear']].values\n",
    "y = ma['demand'].values"
   ]
  },
  {
   "cell_type": "code",
   "execution_count": 187,
   "metadata": {},
   "outputs": [
    {
     "name": "stdout",
     "output_type": "stream",
     "text": [
      "train\n",
      "        4392 entries\n",
      "        ~0.50% of total data\n",
      "\n",
      "        \n",
      "validation\n",
      "        1757 entries\n",
      "        ~0.20% of total data\n",
      "\n",
      "        \n",
      "test\n",
      "        2635 entries\n",
      "        ~0.30% of total data\n",
      "\n",
      "        \n"
     ]
    }
   ],
   "source": [
    "X_train, X_val, X_test, y_train, y_val, y_test  = split_data(X,y)"
   ]
  },
  {
   "cell_type": "markdown",
   "metadata": {},
   "source": [
    "### Disclaimer\n",
    "\n",
    "We have marked multiple cells in the following code with **### LONG PROCESSESING OPERATION ###**. This means that the runtime of these cells can take several minutes (~10 minutes per cell on our systems). This is because we try to tweak our parameters with a grid search algorithm. However for this grid search we did not use preimplemented functions, but we wrote them oursevlves. Thereby our self-written functions do not make use of multiple threads and are not efficient. \n",
    "All cells are prerun and the output should already be there. It is thereby not necessery to rerun all cells."
   ]
  },
  {
   "cell_type": "markdown",
   "metadata": {},
   "source": [
    "### Alpha & Sigma Range 1"
   ]
  },
  {
   "cell_type": "markdown",
   "metadata": {},
   "source": [
    "We will now used the functions we defined above to find a good regression model.\n",
    "We start by guessing an initial set of sigma and alphas."
   ]
  },
  {
   "cell_type": "code",
   "execution_count": 188,
   "metadata": {},
   "outputs": [],
   "source": [
    "sigma_range = np.linspace(1, 30, 10)\n",
    "alpha_range = np.logspace(-3, 0, 10)\n",
    "\n",
    "### LONG PROCESSING OPERATION ###\n",
    "ma_errors_1 = calc_errors(sigma_range, alpha_range)"
   ]
  },
  {
   "cell_type": "code",
   "execution_count": 189,
   "metadata": {},
   "outputs": [
    {
     "data": {
      "text/plain": [
       "58.34908476221663"
      ]
     },
     "execution_count": 189,
     "metadata": {},
     "output_type": "execute_result"
    }
   ],
   "source": [
    "ma_vmin_1 = ma_errors_1.values.min()\n",
    "ma_vmin_1"
   ]
  },
  {
   "cell_type": "code",
   "execution_count": 190,
   "metadata": {},
   "outputs": [
    {
     "data": {
      "image/png": "[encoded data removed]",
      "text/plain": [
       "<Figure size 432x288 with 2 Axes>"
      ]
     },
     "metadata": {
      "needs_background": "light"
     },
     "output_type": "display_data"
    }
   ],
   "source": [
    "ax = sns.heatmap(ma_errors_1, vmin=ma_vmin_1, vmax=ma_vmin_1+20,\n",
    "                 xticklabels=ma_errors_1.columns.values.round(2),\n",
    "                 yticklabels=ma_errors_1.index.values.round(2))\n",
    "ax.set_xlabel('alpha')\n",
    "ax.set_ylabel('sigma') \n",
    "ax.set_title('MSE over sigma and alpha')\n",
    "\n",
    "plt.show()"
   ]
  },
  {
   "cell_type": "markdown",
   "metadata": {},
   "source": [
    "We will now go on by fitting our sigma and alpha ranges to the results as seen above.  \n",
    "Basically we 'zoom' into the dark zone, where the mean squared error is the lowest."
   ]
  },
  {
   "cell_type": "markdown",
   "metadata": {},
   "source": [
    "### Alpha & Sigma Range 2"
   ]
  },
  {
   "cell_type": "code",
   "execution_count": 191,
   "metadata": {},
   "outputs": [],
   "source": [
    "sigma_range = np.linspace(1, 8, 10)\n",
    "alpha_range = np.logspace(-2, -0.5, 10)\n",
    "    \n",
    "### LONG PROCESSING OPERATION ###\n",
    "ma_errors_2 = calc_errors(sigma_range, alpha_range)"
   ]
  },
  {
   "cell_type": "code",
   "execution_count": 192,
   "metadata": {},
   "outputs": [
    {
     "data": {
      "text/plain": [
       "56.72597902047088"
      ]
     },
     "execution_count": 192,
     "metadata": {},
     "output_type": "execute_result"
    }
   ],
   "source": [
    "ma_vmin_2 = ma_errors_2.values.min()\n",
    "ma_vmin_2"
   ]
  },
  {
   "cell_type": "code",
   "execution_count": 193,
   "metadata": {},
   "outputs": [
    {
     "data": {
      "image/png": "[encoded data removed]",
      "text/plain": [
       "<Figure size 432x288 with 2 Axes>"
      ]
     },
     "metadata": {
      "needs_background": "light"
     },
     "output_type": "display_data"
    }
   ],
   "source": [
    "ax = sns.heatmap(ma_errors_2, vmin=ma_vmin_2, vmax=ma_vmin_2+20,\n",
    "                 xticklabels=ma_errors_2.columns.values.round(2),\n",
    "                 yticklabels=ma_errors_2.index.values.round(2))\n",
    "ax.set_xlabel('alpha')\n",
    "ax.set_ylabel('sigma') \n",
    "ax.set_title('MSE over sigma and alpha')\n",
    "\n",
    "plt.show()"
   ]
  },
  {
   "cell_type": "markdown",
   "metadata": {},
   "source": [
    "### Alpha & Sigma Range 3"
   ]
  },
  {
   "cell_type": "code",
   "execution_count": 194,
   "metadata": {},
   "outputs": [],
   "source": [
    "sigma_range = np.linspace(2, 5, 10)\n",
    "alpha_range = np.logspace(-1, -0.5, 10)\n",
    "\n",
    "### LONG PROCESSING OPERATION ###\n",
    "ma_errors_3 = calc_errors(sigma_range, alpha_range)"
   ]
  },
  {
   "cell_type": "code",
   "execution_count": 195,
   "metadata": {},
   "outputs": [
    {
     "data": {
      "text/plain": [
       "56.66991594567819"
      ]
     },
     "execution_count": 195,
     "metadata": {},
     "output_type": "execute_result"
    }
   ],
   "source": [
    "ma_vmin_3 = errors_3.values.min()\n",
    "ma_vmin_3"
   ]
  },
  {
   "cell_type": "code",
   "execution_count": 196,
   "metadata": {},
   "outputs": [
    {
     "data": {
      "image/png": "[encoded data removed]",
      "text/plain": [
       "<Figure size 432x288 with 2 Axes>"
      ]
     },
     "metadata": {
      "needs_background": "light"
     },
     "output_type": "display_data"
    }
   ],
   "source": [
    "ax = sns.heatmap(ma_errors_3, vmin=ma_vmin_3, vmax=ma_vmin_3+3,\n",
    "                 xticklabels=ma_errors_3.columns.values.round(2),\n",
    "                 yticklabels=ma_errors_3.index.values.round(2))\n",
    "ax.set_xlabel('alpha')\n",
    "ax.set_ylabel('sigma') \n",
    "ax.set_title('MSE over sigma and alpha')\n",
    "\n",
    "plt.show()"
   ]
  },
  {
   "cell_type": "code",
   "execution_count": 197,
   "metadata": {},
   "outputs": [
    {
     "data": {
      "image/png": "[encoded data removed]",
      "text/plain": [
       "<Figure size 1152x288 with 6 Axes>"
      ]
     },
     "metadata": {
      "needs_background": "light"
     },
     "output_type": "display_data"
    }
   ],
   "source": [
    "fig,axes = plt.subplots(nrows=1, ncols=3 ,figsize=(16,4)) \n",
    "\n",
    "data = [ma_errors_1, ma_errors_2, ma_errors_3]\n",
    "color_range = [20, 15, 3]\n",
    "\n",
    "for i, ax in enumerate(axes):\n",
    "    vmin = data[i].values.min()\n",
    "    ax = sns.heatmap(data[i], vmin=vmin, vmax=vmin+color_range[i],\n",
    "                 xticklabels=data[i].columns.values.round(2),\n",
    "                 yticklabels=data[i].index.values.round(2), ax=ax,\n",
    "                cbar_kws={'label': 'MSE'})\n",
    "    ax.set_ylabel('sigma')\n",
    "    ax.set_xlabel('alpha/lambda')\n",
    "    ax.set_title('{}th Iteration'.format(i+1))\n",
    "\n",
    "fig.suptitle('MSE for different hyperparameters (sigma and lambda)', fontsize=16)\n",
    "\n",
    "fig.tight_layout(pad=3)\n",
    "\n",
    "plt.show()"
   ]
  },
  {
   "cell_type": "markdown",
   "metadata": {},
   "source": [
    "---"
   ]
  },
  {
   "cell_type": "markdown",
   "metadata": {},
   "source": [
    "We now print out our approximation of the best hyperparameters, as well as the mean squared error of the validation data set."
   ]
  },
  {
   "cell_type": "code",
   "execution_count": 198,
   "metadata": {},
   "outputs": [
    {
     "name": "stdout",
     "output_type": "stream",
     "text": [
      "Tweaked Hyperparameters:\n",
      "sigma: ~3.333\n",
      "alpha: ~0.1896\n",
      "\n",
      "Mean-Squared-Error: 56.66991594567819\n",
      "\n"
     ]
    }
   ],
   "source": [
    "ma_errors_3_arr = ma_errors_3.values\n",
    "best_sigma_ind, best_alpha_ind = np.unravel_index(ma_errors_3_arr.argmin(), ma_errors_3_arr.shape)\n",
    "best_alpha = ma_errors_3.columns[best_alpha_ind]\n",
    "best_sigma = ma_errors_3.index[best_sigma_ind]\n",
    "\n",
    "print(\"\"\"Tweaked Hyperparameters:\n",
    "sigma: ~{:.4}\n",
    "alpha: ~{:.4f}\n",
    "\n",
    "Mean-Squared-Error: {}\n",
    "\"\"\".format(best_sigma, best_alpha, ma_errors_3_arr.min()))"
   ]
  },
  {
   "cell_type": "markdown",
   "metadata": {},
   "source": [
    "Now we evaluate our resulting model on the test data set"
   ]
  },
  {
   "cell_type": "code",
   "execution_count": 199,
   "metadata": {},
   "outputs": [
    {
     "name": "stdout",
     "output_type": "stream",
     "text": [
      "Evaluation of model\n",
      "\n",
      "    Mean-Squared-Error:              57.4553\n",
      "    Mean-Absolute-Error:              5.4919\n",
      "    \n",
      "    Coefficient of determination:    69.1785 %\n",
      "    \n"
     ]
    }
   ],
   "source": [
    "# tweaked_model = rbf_ridge_model(best_sigma, best_alpha)\n",
    "# hard-coded to prevent rerunning all the time\n",
    "tweaked_model = rbf_ridge_model(3.333333333333333, 0.1895735652406376)\n",
    "evaluate_model(tweaked_model)"
   ]
  },
  {
   "cell_type": "markdown",
   "metadata": {},
   "source": [
    "## Duisburg"
   ]
  },
  {
   "cell_type": "markdown",
   "metadata": {},
   "source": [
    "We do the exact same procedure for Duisburg as we did above for Marburg"
   ]
  },
  {
   "cell_type": "code",
   "execution_count": 200,
   "metadata": {},
   "outputs": [],
   "source": [
    "# peak demand\n",
    "du = pd.DataFrame(duisburg.resample('H').count()[\"day\"])\n",
    "du.rename(columns={'day': 'demand'}, inplace=True)\n",
    "\n",
    "du['dayofyear'] = du.index.map(lambda datetime : datetime.dayofyear)\n",
    "du['week'] = du.index.map(lambda datetime : datetime.week)\n",
    "du['weekday'] = du.index.map(lambda datetime : datetime.weekday)\n",
    "du['is_weekday'] = du['weekday'].map(lambda day : day < 5)\n",
    "du['hour'] = du.index.map(lambda datetime : datetime.hour)\n",
    "\n",
    "du = du.merge(duisburg_weather, left_index=True, right_index=True)"
   ]
  },
  {
   "cell_type": "code",
   "execution_count": 201,
   "metadata": {},
   "outputs": [],
   "source": [
    "X = du[['temperature', 'hour', 'precipitation', 'dayofyear']].values\n",
    "y = du['demand'].values"
   ]
  },
  {
   "cell_type": "code",
   "execution_count": 202,
   "metadata": {},
   "outputs": [
    {
     "name": "stdout",
     "output_type": "stream",
     "text": [
      "train\n",
      "        4392 entries\n",
      "        ~0.50% of total data\n",
      "\n",
      "        \n",
      "validation\n",
      "        1757 entries\n",
      "        ~0.20% of total data\n",
      "\n",
      "        \n",
      "test\n",
      "        2635 entries\n",
      "        ~0.30% of total data\n",
      "\n",
      "        \n"
     ]
    }
   ],
   "source": [
    "X_train, X_val, X_test, y_train, y_val, y_test = split_data(X,y)"
   ]
  },
  {
   "cell_type": "markdown",
   "metadata": {},
   "source": [
    "### Alpha & Sigma Range 1"
   ]
  },
  {
   "cell_type": "code",
   "execution_count": 203,
   "metadata": {},
   "outputs": [],
   "source": [
    "sigma_range = np.linspace(1, 30, 10)\n",
    "alpha_range = np.logspace(-3, 0, 10)\n",
    "\n",
    "### LONG PROCESSING OPERATION ###\n",
    "du_errors_1 = calc_errors(sigma_range, alpha_range)"
   ]
  },
  {
   "cell_type": "code",
   "execution_count": 204,
   "metadata": {},
   "outputs": [
    {
     "data": {
      "text/plain": [
       "58.34908476221663"
      ]
     },
     "execution_count": 204,
     "metadata": {},
     "output_type": "execute_result"
    }
   ],
   "source": [
    "du_vmin_1 = errors_1.values.min()\n",
    "du_vmin_1"
   ]
  },
  {
   "cell_type": "code",
   "execution_count": 205,
   "metadata": {},
   "outputs": [
    {
     "data": {
      "image/png": "[encoded data removed]",
      "text/plain": [
       "<Figure size 432x288 with 2 Axes>"
      ]
     },
     "metadata": {
      "needs_background": "light"
     },
     "output_type": "display_data"
    }
   ],
   "source": [
    "ax = sns.heatmap(errors_1, vmin=du_vmin_1, vmax=du_vmin_1+20,\n",
    "                 xticklabels=du_errors_1.columns.values.round(2),\n",
    "                 yticklabels=du_errors_1.index.values.round(2))\n",
    "ax.set_xlabel('alpha')\n",
    "ax.set_ylabel('sigma') \n",
    "ax.set_title('MSE over sigma and alpha')\n",
    "\n",
    "plt.show()"
   ]
  },
  {
   "cell_type": "markdown",
   "metadata": {},
   "source": [
    "### Alpha & Sigma Range 2"
   ]
  },
  {
   "cell_type": "code",
   "execution_count": 206,
   "metadata": {},
   "outputs": [],
   "source": [
    "sigma_range = np.linspace(1, 8, 10)\n",
    "alpha_range = np.logspace(-2, -0.5, 10)\n",
    "\n",
    "### LONG PROCESSING OPERATION ###\n",
    "du_errors_2 = calc_errors(sigma_range, alpha_range)"
   ]
  },
  {
   "cell_type": "code",
   "execution_count": 207,
   "metadata": {},
   "outputs": [
    {
     "data": {
      "text/plain": [
       "50.261427199106"
      ]
     },
     "execution_count": 207,
     "metadata": {},
     "output_type": "execute_result"
    }
   ],
   "source": [
    "du_vmin_2 = du_errors_2.values.min()\n",
    "du_vmin_2"
   ]
  },
  {
   "cell_type": "code",
   "execution_count": 208,
   "metadata": {},
   "outputs": [
    {
     "data": {
      "image/png": "[encoded data removed]",
      "text/plain": [
       "<Figure size 432x288 with 2 Axes>"
      ]
     },
     "metadata": {
      "needs_background": "light"
     },
     "output_type": "display_data"
    }
   ],
   "source": [
    "ax = sns.heatmap(du_errors_2, vmin=du_vmin_2, vmax=du_vmin_2+20,\n",
    "                 xticklabels=du_errors_2.columns.values.round(2),\n",
    "                 yticklabels=du_errors_2.index.values.round(2))\n",
    "ax.set_xlabel('alpha')\n",
    "ax.set_ylabel('sigma') \n",
    "ax.set_title('MSE over sigma and alpha')\n",
    "\n",
    "plt.show()"
   ]
  },
  {
   "cell_type": "markdown",
   "metadata": {},
   "source": [
    "### Alpha & Sigma Range 3"
   ]
  },
  {
   "cell_type": "code",
   "execution_count": 209,
   "metadata": {},
   "outputs": [],
   "source": [
    "sigma_range = np.linspace(3, 4, 10)\n",
    "alpha_range = np.logspace(-1, -0.5, 10)\n",
    "\n",
    "### LONG PROCESSING OPERATION ###\n",
    "du_errors_3 = calc_errors(sigma_range, alpha_range)"
   ]
  },
  {
   "cell_type": "code",
   "execution_count": 218,
   "metadata": {},
   "outputs": [
    {
     "data": {
      "text/plain": [
       "49.84015306061111"
      ]
     },
     "execution_count": 218,
     "metadata": {},
     "output_type": "execute_result"
    }
   ],
   "source": [
    "du_vmin_3 = du_errors_3.values.min()\n",
    "du_vmin_3"
   ]
  },
  {
   "cell_type": "code",
   "execution_count": 221,
   "metadata": {},
   "outputs": [
    {
     "data": {
      "image/png": "[encoded data removed]",
      "text/plain": [
       "<Figure size 432x288 with 2 Axes>"
      ]
     },
     "metadata": {
      "needs_background": "light"
     },
     "output_type": "display_data"
    }
   ],
   "source": [
    "ax = sns.heatmap(du_errors_3, vmin=du_vmin_3, vmax=du_vmin_3+3,\n",
    "                 xticklabels=du_errors_3.columns.values.round(2),\n",
    "                 yticklabels=du_errors_3.index.values.round(2))\n",
    "ax.set_xlabel('alpha')\n",
    "ax.set_ylabel('sigma') \n",
    "ax.set_title('MSE over sigma and alpha')\n",
    "\n",
    "plt.show()"
   ]
  },
  {
   "cell_type": "code",
   "execution_count": 220,
   "metadata": {},
   "outputs": [
    {
     "data": {
      "image/png": "[encoded data removed]",
      "text/plain": [
       "<Figure size 1152x288 with 6 Axes>"
      ]
     },
     "metadata": {
      "needs_background": "light"
     },
     "output_type": "display_data"
    }
   ],
   "source": [
    "fig,axes = plt.subplots(nrows=1, ncols=3 ,figsize=(16,4)) \n",
    "\n",
    "data = [du_errors_1, du_errors_2, du_errors_3]\n",
    "color_range = [20, 15, 3]\n",
    "\n",
    "for i, ax in enumerate(axes):\n",
    "    vmin = data[i].values.min()\n",
    "    ax = sns.heatmap(data[i], vmin=vmin, vmax=vmin+color_range[i],\n",
    "                 xticklabels=data[i].columns.values.round(2),\n",
    "                 yticklabels=data[i].index.values.round(2), ax=ax,\n",
    "                cbar_kws={'label': 'MSE'})\n",
    "    ax.set_ylabel('sigma')\n",
    "    ax.set_xlabel('alpha/lambda')\n",
    "    ax.set_title('{}th Iteration'.format(i+1))\n",
    "\n",
    "fig.suptitle('MSE for different hyperparameters (sigma and lambda)', fontsize=16)\n",
    "\n",
    "fig.tight_layout(pad=3)\n",
    "\n",
    "plt.show()"
   ]
  },
  {
   "cell_type": "markdown",
   "metadata": {},
   "source": [
    "---"
   ]
  },
  {
   "cell_type": "code",
   "execution_count": 213,
   "metadata": {},
   "outputs": [
    {
     "name": "stdout",
     "output_type": "stream",
     "text": [
      "Tweaked Hyperparameters:\n",
      "sigma: ~3.0000\n",
      "alpha: ~0.2783\n",
      "\n",
      "Mean-Squared-Error: 56.66991594567819\n",
      "\n"
     ]
    }
   ],
   "source": [
    "du_errors_3_arr = du_errors_3.values\n",
    "best_sigma_ind, best_alpha_ind = np.unravel_index(du_errors_3_arr.argmin(), du_errors_3_arr.shape)\n",
    "best_alpha = du_errors_3.columns[best_alpha_ind]\n",
    "best_sigma = du_errors_3.index[best_sigma_ind]\n",
    "\n",
    "print(\"\"\"Tweaked Hyperparameters:\n",
    "sigma: ~{:.4f}\n",
    "alpha: ~{:.4f}\n",
    "\n",
    "Mean-Squared-Error: {}\n",
    "\"\"\".format(best_sigma, best_alpha, errors_3_arr.min()))"
   ]
  },
  {
   "cell_type": "code",
   "execution_count": 214,
   "metadata": {},
   "outputs": [
    {
     "name": "stdout",
     "output_type": "stream",
     "text": [
      "Evaluation of model\n",
      "\n",
      "    Mean-Squared-Error:              49.9636\n",
      "    Mean-Absolute-Error:              5.0485\n",
      "    \n",
      "    Coefficient of determination:    60.8807 %\n",
      "    \n"
     ]
    }
   ],
   "source": [
    "tweaked_model = rbf_ridge_model(3.222, 0.1896)\n",
    "evaluate_model(tweaked_model)"
   ]
  },
  {
   "cell_type": "code",
   "execution_count": null,
   "metadata": {},
   "outputs": [],
   "source": []
  }
 ],
 "metadata": {
  "kernelspec": {
   "display_name": "Python 3",
   "language": "python",
   "name": "python3"
  },
  "language_info": {
   "codemirror_mode": {
    "name": "ipython",
    "version": 3
   },
   "file_extension": ".py",
   "mimetype": "text/x-python",
   "name": "python",
   "nbconvert_exporter": "python",
   "pygments_lexer": "ipython3",
   "version": "3.7.7"
  }
 },
 "nbformat": 4,
 "nbformat_minor": 4
}
