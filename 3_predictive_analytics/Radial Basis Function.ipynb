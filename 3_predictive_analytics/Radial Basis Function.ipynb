{
 "cells": [
  {
   "cell_type": "markdown",
   "metadata": {},
   "source": [
    "# Import Statements"
   ]
  },
  {
   "cell_type": "code",
   "execution_count": 29,
   "metadata": {},
   "outputs": [],
   "source": [
    "import pandas as pd\n",
    "import numpy as np\n",
    "import matplotlib.pyplot as plt\n",
    "import seaborn as sns\n",
    "from datetime import datetime\n",
    "from datetime import timedelta\n",
    "import math\n",
    "import random\n",
    "import timeit\n",
    "\n",
    "from sklearn.model_selection import train_test_split\n",
    "from sklearn.kernel_ridge import KernelRidge\n",
    "from sklearn.gaussian_process.kernels import RBF\n",
    "from sklearn.metrics import mean_squared_error, mean_absolute_error"
   ]
  },
  {
   "cell_type": "markdown",
   "metadata": {},
   "source": [
    "---"
   ]
  },
  {
   "cell_type": "code",
   "execution_count": 30,
   "metadata": {},
   "outputs": [],
   "source": [
    "marburg = pd.read_pickle(\"../0_data/marburg_clean.pkl\")\n",
    "duisburg = pd.read_pickle('../0_data/duisburg_clean.pkl')\n",
    "marburg_weather = pd.read_pickle(\"../0_data/weather/marburg_weather.pkl\")\n",
    "duisburg_weather = pd.read_pickle(\"../0_data/weather/duisburg_weather.pkl\")"
   ]
  },
  {
   "cell_type": "markdown",
   "metadata": {},
   "source": [
    "# Radial Basis Function"
   ]
  },
  {
   "cell_type": "markdown",
   "metadata": {},
   "source": [
    "We use Kernel Ridge Regression from scikit-learn."
   ]
  },
  {
   "cell_type": "code",
   "execution_count": 31,
   "metadata": {},
   "outputs": [],
   "source": [
    "def rbf_ridge_model(sigma, alpha):\n",
    "    rbf_ridge = KernelRidge(alpha=alpha, kernel = RBF(sigma))\n",
    "    rbf_ridge.fit(X_train, y_train)\n",
    "    \n",
    "    return rbf_ridge"
   ]
  },
  {
   "cell_type": "markdown",
   "metadata": {},
   "source": [
    "The function *calc_errors* calculates the Mean Squared Error between the real values and the predicted values by the model above using different values for bandwidth $\\sigma$ and the regularization parameter alpha $\\alpha$."
   ]
  },
  {
   "cell_type": "code",
   "execution_count": 32,
   "metadata": {},
   "outputs": [],
   "source": [
    "def calc_errors(sigma_range, alpha_range):\n",
    "    sigma_length = len(sigma_range)\n",
    "    alpha_length = len(alpha_range)\n",
    "\n",
    "    errors_arr = np.empty((sigma_length, alpha_length))\n",
    "    for i, sigma in enumerate(sigma_range):\n",
    "        for j, alpha in enumerate(alpha_range):\n",
    "            errors_arr[i][j] = mean_squared_error(rbf_ridge_model(sigma, alpha).predict(X_val), y_val)\n",
    "    \n",
    "    errors = pd.DataFrame(errors_arr, columns = alpha_range, index = sigma_range)\n",
    "\n",
    "    return errors.sort_index(ascending=False)"
   ]
  },
  {
   "cell_type": "markdown",
   "metadata": {},
   "source": [
    "The function *split_data* splits the given dataset in train, hold and test datasets of respective sizes of 50%, 20% and 30%."
   ]
  },
  {
   "cell_type": "code",
   "execution_count": 33,
   "metadata": {},
   "outputs": [],
   "source": [
    "def split_data(X, y):\n",
    "    # Do a 50-50 split first\n",
    "    X_train, X_test, y_train, y_test = train_test_split(X, y, test_size=0.5,random_state=34 )\n",
    "\n",
    "    # Now split X_test to achive 50-20-30 split\n",
    "    X_test, X_val, y_test, y_val = train_test_split(X_test, y_test, test_size=(0.2/0.5),random_state=34 )\n",
    "\n",
    "    for name, data in {'train': X_train, 'validation': X_val, 'test': X_test}.items():\n",
    "        print(\"\"\"{}\n",
    "        {} entries\n",
    "        ~{:.2f}% of total data\n",
    "\n",
    "        \"\"\".format(name, len(data), len(data)/len(X)))\n",
    "        \n",
    "    return X_train, X_val, X_test, y_train, y_val, y_test "
   ]
  },
  {
   "cell_type": "markdown",
   "metadata": {},
   "source": [
    "## Marburg"
   ]
  },
  {
   "cell_type": "code",
   "execution_count": 49,
   "metadata": {},
   "outputs": [],
   "source": [
    "# peak demand\n",
    "ma = pd.DataFrame(marburg.resample('H').count()[\"day\"])\n",
    "ma.rename(columns={'day': 'demand'}, inplace=True)\n",
    "\n",
    "ma['dayofyear'] = ma.index.map(lambda datetime : datetime.dayofyear)\n",
    "ma['week'] = ma.index.map(lambda datetime : datetime.week)\n",
    "ma['weekday'] = ma.index.map(lambda datetime : datetime.weekday)\n",
    "ma['is_weekday'] = ma['weekday'].map(lambda day : day < 5)\n",
    "ma['hour'] = ma.index.map(lambda datetime : datetime.hour)\n",
    "\n",
    "ma = ma.merge(marburg_weather, left_index=True, right_index=True)"
   ]
  },
  {
   "cell_type": "code",
   "execution_count": 50,
   "metadata": {},
   "outputs": [],
   "source": [
    "X = ma[['temperature', 'hour', 'precipitation', 'dayofyear']].values\n",
    "y = ma['demand'].values"
   ]
  },
  {
   "cell_type": "code",
   "execution_count": 51,
   "metadata": {},
   "outputs": [
    {
     "name": "stdout",
     "output_type": "stream",
     "text": [
      "train\n",
      "        4392 entries\n",
      "        ~0.50% of total data\n",
      "\n",
      "        \n",
      "validation\n",
      "        1757 entries\n",
      "        ~0.20% of total data\n",
      "\n",
      "        \n",
      "test\n",
      "        2635 entries\n",
      "        ~0.30% of total data\n",
      "\n",
      "        \n"
     ]
    }
   ],
   "source": [
    "X_train, X_val, X_test, y_train, y_val, y_test  = split_data(X,y)"
   ]
  },
  {
   "cell_type": "markdown",
   "metadata": {},
   "source": [
    "### Alpha & Sigma Range 1"
   ]
  },
  {
   "cell_type": "code",
   "execution_count": 51,
   "metadata": {},
   "outputs": [],
   "source": [
    "sigma_range = np.linspace(1, 30, 10)\n",
    "alpha_range = np.logspace(-3, 0, 10)\n",
    "    \n",
    "errors_1 = calc_errors(sigma_range, alpha_range)"
   ]
  },
  {
   "cell_type": "code",
   "execution_count": 52,
   "metadata": {},
   "outputs": [
    {
     "data": {
      "text/plain": [
       "56.66991594567819"
      ]
     },
     "execution_count": 52,
     "metadata": {},
     "output_type": "execute_result"
    }
   ],
   "source": [
    "vmin = errors_1.values.min()\n",
    "vmin"
   ]
  },
  {
   "cell_type": "code",
   "execution_count": 53,
   "metadata": {},
   "outputs": [
    {
     "data": {
      "image/png": "[encoded data removed]",
      "text/plain": [
       "<Figure size 432x288 with 2 Axes>"
      ]
     },
     "metadata": {
      "needs_background": "light"
     },
     "output_type": "display_data"
    }
   ],
   "source": [
    "ax = sns.heatmap(errors_1, vmin=vmin, vmax=vmin+20,\n",
    "                 xticklabels=errors_1.columns.values.round(2),\n",
    "                 yticklabels=errors_1.index.values.round(2))\n",
    "ax.set_xlabel('alpha')\n",
    "ax.set_ylabel('sigma') \n",
    "ax.set_title('MSE over sigma and alpha')\n",
    "\n",
    "plt.show()"
   ]
  },
  {
   "cell_type": "markdown",
   "metadata": {},
   "source": [
    "### Alpha & Sigma Range 2"
   ]
  },
  {
   "cell_type": "code",
   "execution_count": 54,
   "metadata": {},
   "outputs": [],
   "source": [
    "sigma_range = np.linspace(1, 8, 10)\n",
    "alpha_range = np.logspace(-2, -0.5, 10)\n",
    "    \n",
    "errors_2 = calc_errors(sigma_range, alpha_range)"
   ]
  },
  {
   "cell_type": "code",
   "execution_count": 55,
   "metadata": {},
   "outputs": [
    {
     "data": {
      "text/plain": [
       "56.66991594567819"
      ]
     },
     "execution_count": 55,
     "metadata": {},
     "output_type": "execute_result"
    }
   ],
   "source": [
    "vmin = errors_2.values.min()\n",
    "vmin"
   ]
  },
  {
   "cell_type": "code",
   "execution_count": 56,
   "metadata": {},
   "outputs": [
    {
     "data": {
      "image/png": "[encoded data removed]",
      "text/plain": [
       "<Figure size 432x288 with 2 Axes>"
      ]
     },
     "metadata": {
      "needs_background": "light"
     },
     "output_type": "display_data"
    }
   ],
   "source": [
    "ax = sns.heatmap(errors_2, vmin=vmin, vmax=vmin+20,\n",
    "                 xticklabels=errors_2.columns.values.round(2),\n",
    "                 yticklabels=errors_2.index.values.round(2))\n",
    "ax.set_xlabel('alpha')\n",
    "ax.set_ylabel('sigma') \n",
    "ax.set_title('MSE over sigma and alpha')\n",
    "\n",
    "plt.show()"
   ]
  },
  {
   "cell_type": "markdown",
   "metadata": {},
   "source": [
    "### Alpha & Sigma Range 3"
   ]
  },
  {
   "cell_type": "code",
   "execution_count": 26,
   "metadata": {},
   "outputs": [],
   "source": [
    "sigma_range = np.linspace(2, 5, 10)\n",
    "alpha_range = np.logspace(-1, -0.5, 10)\n",
    "    \n",
    "errors_3 = calc_errors(sigma_range, alpha_range)"
   ]
  },
  {
   "cell_type": "code",
   "execution_count": 27,
   "metadata": {},
   "outputs": [
    {
     "data": {
      "text/plain": [
       "56.66991594567819"
      ]
     },
     "execution_count": 27,
     "metadata": {},
     "output_type": "execute_result"
    }
   ],
   "source": [
    "vmin = errors_3.values.min()\n",
    "vmin"
   ]
  },
  {
   "cell_type": "code",
   "execution_count": 31,
   "metadata": {},
   "outputs": [
    {
     "data": {
      "image/png": "[encoded data removed]",
      "text/plain": [
       "<Figure size 432x288 with 2 Axes>"
      ]
     },
     "metadata": {
      "needs_background": "light"
     },
     "output_type": "display_data"
    }
   ],
   "source": [
    "ax = sns.heatmap(errors_3, vmin=vmin, vmax=vmin+3,\n",
    "                 xticklabels=errors_3.columns.values.round(2),\n",
    "                 yticklabels=errors_3.index.values.round(2))\n",
    "ax.set_xlabel('alpha')\n",
    "ax.set_ylabel('sigma') \n",
    "ax.set_title('MSE over sigma and alpha')\n",
    "\n",
    "plt.show()"
   ]
  },
  {
   "cell_type": "markdown",
   "metadata": {},
   "source": [
    "## Duisburg"
   ]
  },
  {
   "cell_type": "code",
   "execution_count": 46,
   "metadata": {},
   "outputs": [],
   "source": [
    "# peak demand\n",
    "du = pd.DataFrame(duisburg.resample('H').count()[\"day\"])\n",
    "du.rename(columns={'day': 'demand'}, inplace=True)\n",
    "\n",
    "du['dayofyear'] = du.index.map(lambda datetime : datetime.dayofyear)\n",
    "du['week'] = du.index.map(lambda datetime : datetime.week)\n",
    "du['weekday'] = du.index.map(lambda datetime : datetime.weekday)\n",
    "du['is_weekday'] = du['weekday'].map(lambda day : day < 5)\n",
    "du['hour'] = du.index.map(lambda datetime : datetime.hour)\n",
    "\n",
    "du = du.merge(duisburg_weather, left_index=True, right_index=True)"
   ]
  },
  {
   "cell_type": "code",
   "execution_count": 47,
   "metadata": {},
   "outputs": [],
   "source": [
    "X = du[['temperature', 'hour', 'precipitation', 'dayofyear']].values\n",
    "y = du['demand'].values"
   ]
  },
  {
   "cell_type": "code",
   "execution_count": 48,
   "metadata": {},
   "outputs": [
    {
     "name": "stdout",
     "output_type": "stream",
     "text": [
      "train\n",
      "        4392 entries\n",
      "        ~0.50% of total data\n",
      "\n",
      "        \n",
      "validation\n",
      "        1757 entries\n",
      "        ~0.20% of total data\n",
      "\n",
      "        \n",
      "test\n",
      "        2635 entries\n",
      "        ~0.30% of total data\n",
      "\n",
      "        \n"
     ]
    }
   ],
   "source": [
    "X_train, X_val, X_test, y_train, y_val, y_test = split_data(X,y)"
   ]
  },
  {
   "cell_type": "code",
   "execution_count": null,
   "metadata": {},
   "outputs": [],
   "source": []
  }
 ],
 "metadata": {
  "kernelspec": {
   "display_name": "Python 3",
   "language": "python",
   "name": "python3"
  },
  "language_info": {
   "codemirror_mode": {
    "name": "ipython",
    "version": 3
   },
   "file_extension": ".py",
   "mimetype": "text/x-python",
   "name": "python",
   "nbconvert_exporter": "python",
   "pygments_lexer": "ipython3",
   "version": "3.7.6"
  }
 },
 "nbformat": 4,
 "nbformat_minor": 4
}
