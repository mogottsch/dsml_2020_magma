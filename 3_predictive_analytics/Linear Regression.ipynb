{
 "cells": [
  {
   "cell_type": "code",
   "execution_count": 2,
   "metadata": {},
   "outputs": [],
   "source": [
    "import pandas as pd\n",
    "import numpy as np\n",
    "import matplotlib.pyplot as plt\n",
    "import seaborn as sns\n",
    "from datetime import datetime\n",
    "from datetime import timedelta\n",
    "import math\n",
    "import random\n",
    "import timeit\n",
    "\n",
    "from sklearn.linear_model import LinearRegression\n",
    "from sklearn.model_selection import train_test_split\n",
    "from sklearn.kernel_ridge import KernelRidge\n",
    "from sklearn.gaussian_process.kernels import RBF\n",
    "from sklearn.metrics import mean_squared_error, mean_absolute_error, r2_score"
   ]
  },
  {
   "cell_type": "markdown",
   "metadata": {},
   "source": [
    "# Linear Regression (Jan, Tim)"
   ]
  },
  {
   "cell_type": "markdown",
   "metadata": {},
   "source": [
    "### 1. Import data and visualize what we have so far"
   ]
  },
  {
   "cell_type": "code",
   "execution_count": 3,
   "metadata": {},
   "outputs": [],
   "source": [
    "marburg = pd.read_pickle(\"../0_data/marburg_clean.pkl\")\n",
    "duisburg = pd.read_pickle('../0_data/duisburg_clean.pkl')\n",
    "marburg_weather = pd.read_pickle(\"../0_data/weather/marburg_weather.pkl\")\n",
    "duisburg_weather = pd.read_pickle(\"../0_data/weather/duisburg_weather.pkl\")"
   ]
  },
  {
   "cell_type": "code",
   "execution_count": 19,
   "metadata": {},
   "outputs": [
    {
     "data": {
      "text/html": [
       "<div>\n",
       "<style scoped>\n",
       "    .dataframe tbody tr th:only-of-type {\n",
       "        vertical-align: middle;\n",
       "    }\n",
       "\n",
       "    .dataframe tbody tr th {\n",
       "        vertical-align: top;\n",
       "    }\n",
       "\n",
       "    .dataframe thead th {\n",
       "        text-align: right;\n",
       "    }\n",
       "</style>\n",
       "<table border=\"1\" class=\"dataframe\">\n",
       "  <thead>\n",
       "    <tr style=\"text-align: right;\">\n",
       "      <th></th>\n",
       "      <th>day</th>\n",
       "      <th>time</th>\n",
       "      <th>b_number</th>\n",
       "      <th>city</th>\n",
       "      <th>orig</th>\n",
       "      <th>dest</th>\n",
       "      <th>weekday</th>\n",
       "      <th>hour</th>\n",
       "      <th>trip_duration_mins</th>\n",
       "      <th>h</th>\n",
       "      <th>temperature</th>\n",
       "      <th>precipitation</th>\n",
       "    </tr>\n",
       "  </thead>\n",
       "  <tbody>\n",
       "    <tr>\n",
       "      <th>136362</th>\n",
       "      <td>2019-01-20</td>\n",
       "      <td>00:38:00</td>\n",
       "      <td>11261</td>\n",
       "      <td>marburg</td>\n",
       "      <td>(50.8047, 8.7592)</td>\n",
       "      <td>(50.7952, 8.7633)</td>\n",
       "      <td>6</td>\n",
       "      <td>0</td>\n",
       "      <td>27</td>\n",
       "      <td>2019-01-20 00:00:00</td>\n",
       "      <td>-7.9</td>\n",
       "      <td>0.0</td>\n",
       "    </tr>\n",
       "    <tr>\n",
       "      <th>23960</th>\n",
       "      <td>2019-01-20</td>\n",
       "      <td>00:25:00</td>\n",
       "      <td>11113</td>\n",
       "      <td>marburg</td>\n",
       "      <td>(50.8071, 8.7699)</td>\n",
       "      <td>(50.8047, 8.7592)</td>\n",
       "      <td>6</td>\n",
       "      <td>0</td>\n",
       "      <td>29</td>\n",
       "      <td>2019-01-20 00:00:00</td>\n",
       "      <td>-7.9</td>\n",
       "      <td>0.0</td>\n",
       "    </tr>\n",
       "    <tr>\n",
       "      <th>35289</th>\n",
       "      <td>2019-01-20</td>\n",
       "      <td>00:36:00</td>\n",
       "      <td>11126</td>\n",
       "      <td>marburg</td>\n",
       "      <td>(50.8132, 8.7759)</td>\n",
       "      <td>(50.8132, 8.7633)</td>\n",
       "      <td>6</td>\n",
       "      <td>0</td>\n",
       "      <td>5</td>\n",
       "      <td>2019-01-20 00:00:00</td>\n",
       "      <td>-7.9</td>\n",
       "      <td>0.0</td>\n",
       "    </tr>\n",
       "    <tr>\n",
       "      <th>15862</th>\n",
       "      <td>2019-01-20</td>\n",
       "      <td>00:08:00</td>\n",
       "      <td>11103</td>\n",
       "      <td>marburg</td>\n",
       "      <td>(50.7988, 8.7621)</td>\n",
       "      <td>(50.8045, 8.7704)</td>\n",
       "      <td>6</td>\n",
       "      <td>0</td>\n",
       "      <td>9</td>\n",
       "      <td>2019-01-20 00:00:00</td>\n",
       "      <td>-7.9</td>\n",
       "      <td>0.0</td>\n",
       "    </tr>\n",
       "    <tr>\n",
       "      <th>78264</th>\n",
       "      <td>2019-01-20</td>\n",
       "      <td>00:04:00</td>\n",
       "      <td>11181</td>\n",
       "      <td>marburg</td>\n",
       "      <td>(50.7973, 8.7616)</td>\n",
       "      <td>(50.8081, 8.7753)</td>\n",
       "      <td>6</td>\n",
       "      <td>0</td>\n",
       "      <td>11</td>\n",
       "      <td>2019-01-20 00:00:00</td>\n",
       "      <td>-7.9</td>\n",
       "      <td>0.0</td>\n",
       "    </tr>\n",
       "    <tr>\n",
       "      <th>35288</th>\n",
       "      <td>2019-01-20</td>\n",
       "      <td>00:08:00</td>\n",
       "      <td>11126</td>\n",
       "      <td>marburg</td>\n",
       "      <td>(50.7988, 8.7621)</td>\n",
       "      <td>(50.8132, 8.7759)</td>\n",
       "      <td>6</td>\n",
       "      <td>0</td>\n",
       "      <td>18</td>\n",
       "      <td>2019-01-20 00:00:00</td>\n",
       "      <td>-7.9</td>\n",
       "      <td>0.0</td>\n",
       "    </tr>\n",
       "    <tr>\n",
       "      <th>43013</th>\n",
       "      <td>2019-01-20</td>\n",
       "      <td>00:52:00</td>\n",
       "      <td>11136</td>\n",
       "      <td>marburg</td>\n",
       "      <td>(50.8089, 8.7731)</td>\n",
       "      <td>(50.7988, 8.7621)</td>\n",
       "      <td>6</td>\n",
       "      <td>0</td>\n",
       "      <td>10</td>\n",
       "      <td>2019-01-20 00:00:00</td>\n",
       "      <td>-7.9</td>\n",
       "      <td>0.0</td>\n",
       "    </tr>\n",
       "    <tr>\n",
       "      <th>68503</th>\n",
       "      <td>2019-01-20</td>\n",
       "      <td>01:55:00</td>\n",
       "      <td>11169</td>\n",
       "      <td>marburg</td>\n",
       "      <td>(50.7952, 8.7633)</td>\n",
       "      <td>(50.8045, 8.7704)</td>\n",
       "      <td>6</td>\n",
       "      <td>1</td>\n",
       "      <td>11</td>\n",
       "      <td>2019-01-20 01:00:00</td>\n",
       "      <td>-8.3</td>\n",
       "      <td>0.0</td>\n",
       "    </tr>\n",
       "    <tr>\n",
       "      <th>22232</th>\n",
       "      <td>2019-01-20</td>\n",
       "      <td>01:33:00</td>\n",
       "      <td>11111</td>\n",
       "      <td>marburg</td>\n",
       "      <td>(50.8132, 8.7759)</td>\n",
       "      <td>(50.82, 8.7737)</td>\n",
       "      <td>6</td>\n",
       "      <td>1</td>\n",
       "      <td>9</td>\n",
       "      <td>2019-01-20 01:00:00</td>\n",
       "      <td>-8.3</td>\n",
       "      <td>0.0</td>\n",
       "    </tr>\n",
       "    <tr>\n",
       "      <th>14279</th>\n",
       "      <td>2019-01-20</td>\n",
       "      <td>01:59:00</td>\n",
       "      <td>11101</td>\n",
       "      <td>marburg</td>\n",
       "      <td>(50.8188, 8.7738)</td>\n",
       "      <td>(50.8279, 8.7751)</td>\n",
       "      <td>6</td>\n",
       "      <td>1</td>\n",
       "      <td>10</td>\n",
       "      <td>2019-01-20 01:00:00</td>\n",
       "      <td>-8.3</td>\n",
       "      <td>0.0</td>\n",
       "    </tr>\n",
       "    <tr>\n",
       "      <th>24917</th>\n",
       "      <td>2019-01-20</td>\n",
       "      <td>01:11:00</td>\n",
       "      <td>11114</td>\n",
       "      <td>marburg</td>\n",
       "      <td>(50.82, 8.7737)</td>\n",
       "      <td>(50.7988, 8.7621)</td>\n",
       "      <td>6</td>\n",
       "      <td>1</td>\n",
       "      <td>16</td>\n",
       "      <td>2019-01-20 01:00:00</td>\n",
       "      <td>-8.3</td>\n",
       "      <td>0.0</td>\n",
       "    </tr>\n",
       "    <tr>\n",
       "      <th>28433</th>\n",
       "      <td>2019-01-20</td>\n",
       "      <td>01:53:00</td>\n",
       "      <td>11118</td>\n",
       "      <td>marburg</td>\n",
       "      <td>(50.8137, 8.7707)</td>\n",
       "      <td>(50.8362, 8.7568)</td>\n",
       "      <td>6</td>\n",
       "      <td>1</td>\n",
       "      <td>16</td>\n",
       "      <td>2019-01-20 01:00:00</td>\n",
       "      <td>-8.3</td>\n",
       "      <td>0.0</td>\n",
       "    </tr>\n",
       "    <tr>\n",
       "      <th>38716</th>\n",
       "      <td>2019-01-20</td>\n",
       "      <td>01:30:00</td>\n",
       "      <td>11130</td>\n",
       "      <td>marburg</td>\n",
       "      <td>(50.82, 8.7737)</td>\n",
       "      <td>(50.8047, 8.7592)</td>\n",
       "      <td>6</td>\n",
       "      <td>1</td>\n",
       "      <td>24</td>\n",
       "      <td>2019-01-20 01:00:00</td>\n",
       "      <td>-8.3</td>\n",
       "      <td>0.0</td>\n",
       "    </tr>\n",
       "    <tr>\n",
       "      <th>15863</th>\n",
       "      <td>2019-01-20</td>\n",
       "      <td>01:31:00</td>\n",
       "      <td>11103</td>\n",
       "      <td>marburg</td>\n",
       "      <td>(50.8045, 8.7704)</td>\n",
       "      <td>(50.7988, 8.7621)</td>\n",
       "      <td>6</td>\n",
       "      <td>1</td>\n",
       "      <td>6</td>\n",
       "      <td>2019-01-20 01:00:00</td>\n",
       "      <td>-8.3</td>\n",
       "      <td>0.0</td>\n",
       "    </tr>\n",
       "    <tr>\n",
       "      <th>117091</th>\n",
       "      <td>2019-01-20</td>\n",
       "      <td>01:03:00</td>\n",
       "      <td>11233</td>\n",
       "      <td>marburg</td>\n",
       "      <td>(50.8229, 8.7747)</td>\n",
       "      <td>(50.811, 8.7742)</td>\n",
       "      <td>6</td>\n",
       "      <td>1</td>\n",
       "      <td>10</td>\n",
       "      <td>2019-01-20 01:00:00</td>\n",
       "      <td>-8.3</td>\n",
       "      <td>0.0</td>\n",
       "    </tr>\n",
       "    <tr>\n",
       "      <th>117092</th>\n",
       "      <td>2019-01-20</td>\n",
       "      <td>02:12:00</td>\n",
       "      <td>11233</td>\n",
       "      <td>marburg</td>\n",
       "      <td>(50.811, 8.7742)</td>\n",
       "      <td>(50.8229, 8.7747)</td>\n",
       "      <td>6</td>\n",
       "      <td>2</td>\n",
       "      <td>14</td>\n",
       "      <td>2019-01-20 02:00:00</td>\n",
       "      <td>-8.7</td>\n",
       "      <td>0.0</td>\n",
       "    </tr>\n",
       "    <tr>\n",
       "      <th>69446</th>\n",
       "      <td>2019-01-20</td>\n",
       "      <td>02:05:00</td>\n",
       "      <td>11170</td>\n",
       "      <td>marburg</td>\n",
       "      <td>(50.8089, 8.7731)</td>\n",
       "      <td>(50.811, 8.7742)</td>\n",
       "      <td>6</td>\n",
       "      <td>2</td>\n",
       "      <td>8</td>\n",
       "      <td>2019-01-20 02:00:00</td>\n",
       "      <td>-8.7</td>\n",
       "      <td>0.0</td>\n",
       "    </tr>\n",
       "    <tr>\n",
       "      <th>34529</th>\n",
       "      <td>2019-01-20</td>\n",
       "      <td>02:09:00</td>\n",
       "      <td>11125</td>\n",
       "      <td>marburg</td>\n",
       "      <td>(50.8089, 8.7731)</td>\n",
       "      <td>(50.7988, 8.7621)</td>\n",
       "      <td>6</td>\n",
       "      <td>2</td>\n",
       "      <td>9</td>\n",
       "      <td>2019-01-20 02:00:00</td>\n",
       "      <td>-8.7</td>\n",
       "      <td>0.0</td>\n",
       "    </tr>\n",
       "    <tr>\n",
       "      <th>37444</th>\n",
       "      <td>2019-01-20</td>\n",
       "      <td>02:39:00</td>\n",
       "      <td>11128</td>\n",
       "      <td>marburg</td>\n",
       "      <td>(50.8089, 8.7731)</td>\n",
       "      <td>(50.8229, 8.7747)</td>\n",
       "      <td>6</td>\n",
       "      <td>2</td>\n",
       "      <td>14</td>\n",
       "      <td>2019-01-20 02:00:00</td>\n",
       "      <td>-8.7</td>\n",
       "      <td>0.0</td>\n",
       "    </tr>\n",
       "    <tr>\n",
       "      <th>148796</th>\n",
       "      <td>2019-01-20</td>\n",
       "      <td>02:57:00</td>\n",
       "      <td>11278</td>\n",
       "      <td>marburg</td>\n",
       "      <td>(50.814, 8.766)</td>\n",
       "      <td>(50.8166, 8.7515)</td>\n",
       "      <td>6</td>\n",
       "      <td>2</td>\n",
       "      <td>13</td>\n",
       "      <td>2019-01-20 02:00:00</td>\n",
       "      <td>-8.7</td>\n",
       "      <td>0.0</td>\n",
       "    </tr>\n",
       "  </tbody>\n",
       "</table>\n",
       "</div>"
      ],
      "text/plain": [
       "              day      time  b_number     city               orig  \\\n",
       "136362 2019-01-20  00:38:00     11261  marburg  (50.8047, 8.7592)   \n",
       "23960  2019-01-20  00:25:00     11113  marburg  (50.8071, 8.7699)   \n",
       "35289  2019-01-20  00:36:00     11126  marburg  (50.8132, 8.7759)   \n",
       "15862  2019-01-20  00:08:00     11103  marburg  (50.7988, 8.7621)   \n",
       "78264  2019-01-20  00:04:00     11181  marburg  (50.7973, 8.7616)   \n",
       "35288  2019-01-20  00:08:00     11126  marburg  (50.7988, 8.7621)   \n",
       "43013  2019-01-20  00:52:00     11136  marburg  (50.8089, 8.7731)   \n",
       "68503  2019-01-20  01:55:00     11169  marburg  (50.7952, 8.7633)   \n",
       "22232  2019-01-20  01:33:00     11111  marburg  (50.8132, 8.7759)   \n",
       "14279  2019-01-20  01:59:00     11101  marburg  (50.8188, 8.7738)   \n",
       "24917  2019-01-20  01:11:00     11114  marburg    (50.82, 8.7737)   \n",
       "28433  2019-01-20  01:53:00     11118  marburg  (50.8137, 8.7707)   \n",
       "38716  2019-01-20  01:30:00     11130  marburg    (50.82, 8.7737)   \n",
       "15863  2019-01-20  01:31:00     11103  marburg  (50.8045, 8.7704)   \n",
       "117091 2019-01-20  01:03:00     11233  marburg  (50.8229, 8.7747)   \n",
       "117092 2019-01-20  02:12:00     11233  marburg   (50.811, 8.7742)   \n",
       "69446  2019-01-20  02:05:00     11170  marburg  (50.8089, 8.7731)   \n",
       "34529  2019-01-20  02:09:00     11125  marburg  (50.8089, 8.7731)   \n",
       "37444  2019-01-20  02:39:00     11128  marburg  (50.8089, 8.7731)   \n",
       "148796 2019-01-20  02:57:00     11278  marburg    (50.814, 8.766)   \n",
       "\n",
       "                     dest  weekday  hour  trip_duration_mins  \\\n",
       "136362  (50.7952, 8.7633)        6     0                  27   \n",
       "23960   (50.8047, 8.7592)        6     0                  29   \n",
       "35289   (50.8132, 8.7633)        6     0                   5   \n",
       "15862   (50.8045, 8.7704)        6     0                   9   \n",
       "78264   (50.8081, 8.7753)        6     0                  11   \n",
       "35288   (50.8132, 8.7759)        6     0                  18   \n",
       "43013   (50.7988, 8.7621)        6     0                  10   \n",
       "68503   (50.8045, 8.7704)        6     1                  11   \n",
       "22232     (50.82, 8.7737)        6     1                   9   \n",
       "14279   (50.8279, 8.7751)        6     1                  10   \n",
       "24917   (50.7988, 8.7621)        6     1                  16   \n",
       "28433   (50.8362, 8.7568)        6     1                  16   \n",
       "38716   (50.8047, 8.7592)        6     1                  24   \n",
       "15863   (50.7988, 8.7621)        6     1                   6   \n",
       "117091   (50.811, 8.7742)        6     1                  10   \n",
       "117092  (50.8229, 8.7747)        6     2                  14   \n",
       "69446    (50.811, 8.7742)        6     2                   8   \n",
       "34529   (50.7988, 8.7621)        6     2                   9   \n",
       "37444   (50.8229, 8.7747)        6     2                  14   \n",
       "148796  (50.8166, 8.7515)        6     2                  13   \n",
       "\n",
       "                         h  temperature  precipitation  \n",
       "136362 2019-01-20 00:00:00         -7.9            0.0  \n",
       "23960  2019-01-20 00:00:00         -7.9            0.0  \n",
       "35289  2019-01-20 00:00:00         -7.9            0.0  \n",
       "15862  2019-01-20 00:00:00         -7.9            0.0  \n",
       "78264  2019-01-20 00:00:00         -7.9            0.0  \n",
       "35288  2019-01-20 00:00:00         -7.9            0.0  \n",
       "43013  2019-01-20 00:00:00         -7.9            0.0  \n",
       "68503  2019-01-20 01:00:00         -8.3            0.0  \n",
       "22232  2019-01-20 01:00:00         -8.3            0.0  \n",
       "14279  2019-01-20 01:00:00         -8.3            0.0  \n",
       "24917  2019-01-20 01:00:00         -8.3            0.0  \n",
       "28433  2019-01-20 01:00:00         -8.3            0.0  \n",
       "38716  2019-01-20 01:00:00         -8.3            0.0  \n",
       "15863  2019-01-20 01:00:00         -8.3            0.0  \n",
       "117091 2019-01-20 01:00:00         -8.3            0.0  \n",
       "117092 2019-01-20 02:00:00         -8.7            0.0  \n",
       "69446  2019-01-20 02:00:00         -8.7            0.0  \n",
       "34529  2019-01-20 02:00:00         -8.7            0.0  \n",
       "37444  2019-01-20 02:00:00         -8.7            0.0  \n",
       "148796 2019-01-20 02:00:00         -8.7            0.0  "
      ]
     },
     "execution_count": 19,
     "metadata": {},
     "output_type": "execute_result"
    }
   ],
   "source": [
    "marburg_weather[\"h\"]= marburg_weather.index\n",
    "marburg[\"h\"]=marburg.index.floor(freq='h')\n",
    "marburgWeather = pd.merge(marburg, marburg_weather, how='left', left_on='h', right_on='h')\n",
    "#marburgWeatherSorted = marburgWeather.sort_values([\"h\"])\n",
    "#marburgWeatherSorted.head(20)"
   ]
  },
  {
   "cell_type": "markdown",
   "metadata": {},
   "source": [
    "*cool graph here*"
   ]
  },
  {
   "cell_type": "markdown",
   "metadata": {},
   "source": [
    "### 2. Define independent and dependent variables"
   ]
  },
  {
   "cell_type": "code",
   "execution_count": 49,
   "metadata": {},
   "outputs": [],
   "source": [
    "ym = marburgWeather.resample('H', on=\"h\").count()[\"day\"].values\n",
    "# day of year\n",
    "xm = marburgWeather.resample('H', on=\"h\").max()['temperature'].values.reshape(-1,1)\n",
    "xm = np.nan_to_num(xm, nan = 10.511236338797794)\n",
    "# xp = Average temperature? High Temperature?\n",
    "# yp = one of the KPIs? vielleicht Fleet Distance Traveled?"
   ]
  },
  {
   "cell_type": "code",
   "execution_count": 45,
   "metadata": {},
   "outputs": [
    {
     "data": {
      "text/plain": [
       "False"
      ]
     },
     "execution_count": 45,
     "metadata": {},
     "output_type": "execute_result"
    }
   ],
   "source": [
    "#xm_sum = np.sum(xm_no_nan)\n",
    "#xm_nullcheck = np.isnan(xm_sum)\n",
    "#xm_nullcheck"
   ]
  },
  {
   "cell_type": "markdown",
   "metadata": {},
   "source": [
    "### 3. eigentlich: Train / Test split"
   ]
  },
  {
   "cell_type": "code",
   "execution_count": 64,
   "metadata": {},
   "outputs": [],
   "source": [
    "xm_train, xm_test, ym_train, ym_test = train_test_split(xm, ym, test_size=0.2, random_state=0)"
   ]
  },
  {
   "cell_type": "markdown",
   "metadata": {},
   "source": [
    "### 3. Initialize linear model with scikit-learn"
   ]
  },
  {
   "cell_type": "code",
   "execution_count": 65,
   "metadata": {},
   "outputs": [],
   "source": [
    "linear_model_mar = LinearRegression()"
   ]
  },
  {
   "cell_type": "markdown",
   "metadata": {},
   "source": [
    "### 4. Fit the model"
   ]
  },
  {
   "cell_type": "code",
   "execution_count": 66,
   "metadata": {},
   "outputs": [
    {
     "data": {
      "text/plain": [
       "LinearRegression(copy_X=True, fit_intercept=True, n_jobs=None, normalize=False)"
      ]
     },
     "execution_count": 66,
     "metadata": {},
     "output_type": "execute_result"
    }
   ],
   "source": [
    "linear_model_mar.fit(xm_train,ym_train)"
   ]
  },
  {
   "cell_type": "markdown",
   "metadata": {},
   "source": [
    "### 5. Predict training data"
   ]
  },
  {
   "cell_type": "code",
   "execution_count": 67,
   "metadata": {},
   "outputs": [],
   "source": [
    "y_pred_m = linear_model_mar.predict(xm_test)"
   ]
  },
  {
   "cell_type": "markdown",
   "metadata": {},
   "source": [
    "### 6. Define y true"
   ]
  },
  {
   "cell_type": "code",
   "execution_count": 68,
   "metadata": {},
   "outputs": [],
   "source": [
    "y_true_m = ym_test"
   ]
  },
  {
   "cell_type": "markdown",
   "metadata": {},
   "source": [
    "### 7. Plot the linear model"
   ]
  },
  {
   "cell_type": "code",
   "execution_count": 73,
   "metadata": {},
   "outputs": [
    {
     "name": "stderr",
     "output_type": "stream",
     "text": [
      "C:\\Users\\Tim\\anaconda3\\lib\\site-packages\\ipykernel_launcher.py:7: MatplotlibDeprecationWarning: Saw kwargs ['c', 'color'] which are all aliases for 'color'.  Kept value from 'color'.  Passing multiple aliases for the same property will raise a TypeError in 3.3.\n",
      "  import sys\n"
     ]
    },
    {
     "data": {
      "image/png": "[encoded data removed]",
      "text/plain": [
       "<Figure size 864x576 with 1 Axes>"
      ]
     },
     "metadata": {
      "needs_background": "light"
     },
     "output_type": "display_data"
    }
   ],
   "source": [
    "plt.figure(figsize = (12,8))\n",
    "\n",
    "plt.scatter(xm_test, ym_test, marker=\"x\", color = 'orangered')\n",
    "plt.xlabel(\"Temperature (°C)\")\n",
    "plt.ylabel(\"Bicycle Demand\")\n",
    "\n",
    "plt.plot(xm_test, y_pred_m, c='C2', color = 'black', linewidth = 2, label='hier kommt noch ein label hin')\n",
    "\n",
    "xlim, ylim =(plt.gca().get_xlim(), plt.gca().get_ylim())\n",
    "plt.xlim(xlim)\n",
    "plt.ylim(ylim)\n",
    "#plt.legend()\n",
    "plt.show()"
   ]
  },
  {
   "cell_type": "markdown",
   "metadata": {},
   "source": [
    "### 8. Present test metrics"
   ]
  },
  {
   "cell_type": "code",
   "execution_count": 75,
   "metadata": {},
   "outputs": [
    {
     "name": "stdout",
     "output_type": "stream",
     "text": [
      "Mean Absolute Error: 10.81111649215055 Einheit (glaube KM dann)\n",
      "Root Mean Squared Error: 13.622387446003072 Einheit\n",
      "Coefficient of determination: 0.25051982715386956\n"
     ]
    }
   ],
   "source": [
    "#print(\"Mean Absolute Error:\",mean_absolute_error(y_pred_m, y_true_m),\"Einheit (glaube KM dann)\")\n",
    "#print(\"Root Mean Squared Error:\",mean_squared_error(y_pred_m, y_true_m)**0.5,\"Einheit\")\n",
    "#print(\"Coefficient of determination:\",r2_score(y_pred_m, y_true_m))\n",
    "\n",
    "print(\"Mean Absolute Error:\",mean_absolute_error(y_true_m, y_pred_m),\"Einheit (glaube KM dann)\")\n",
    "print(\"Root Mean Squared Error:\",mean_squared_error(y_true_m, y_pred_m)**0.5,\"Einheit\")\n",
    "print(\"Coefficient of determination:\",r2_score(y_true_m, y_pred_m))"
   ]
  },
  {
   "cell_type": "markdown",
   "metadata": {},
   "source": [
    "## Multiple linear regression"
   ]
  },
  {
   "cell_type": "markdown",
   "metadata": {},
   "source": [
    "Adding another feature to the model, for example if its a weekday or not (funktioniert genau wie in WS 08).\n",
    "To do that:\n",
    "\n",
    "1. Add feature to dataframe (if it doesn't already exist)\n",
    "2. Plot the same scatter plot as before, but with a different hue for the new feature\n",
    "3. Train a new linear model with the additional feature, by passing a larger feature vector.\n",
    "4. Predict weekdays and weekends seperately.\n",
    "5. Plot the results.\n",
    "6. Evaluate performance with different error metrics. Did the one-dimensional or two-dimensional model perform better?"
   ]
  }
 ],
 "metadata": {
  "kernelspec": {
   "display_name": "Python 3",
   "language": "python",
   "name": "python3"
  },
  "language_info": {
   "codemirror_mode": {
    "name": "ipython",
    "version": 3
   },
   "file_extension": ".py",
   "mimetype": "text/x-python",
   "name": "python",
   "nbconvert_exporter": "python",
   "pygments_lexer": "ipython3",
   "version": "3.7.6"
  }
 },
 "nbformat": 4,
 "nbformat_minor": 4
}
