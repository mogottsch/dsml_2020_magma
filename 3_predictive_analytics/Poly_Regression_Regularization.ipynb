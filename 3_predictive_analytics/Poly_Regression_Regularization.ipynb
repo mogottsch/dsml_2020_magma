{
 "cells": [
  {
   "cell_type": "code",
   "execution_count": 1,
   "metadata": {},
   "outputs": [],
   "source": [
    "# import all relevant libraries\n",
    "import pandas as pd\n",
    "import numpy as np\n",
    "import matplotlib.pyplot as plt\n",
    "import seaborn as sns\n",
    "import math\n",
    "import random\n",
    "import timeit\n",
    "import pickle\n",
    "\n",
    "import warnings\n",
    "warnings.filterwarnings('ignore')\n",
    "\n",
    "from sklearn.linear_model import LinearRegression\n",
    "from sklearn.model_selection import train_test_split\n",
    "from sklearn.metrics import mean_squared_error, mean_absolute_error, r2_score\n",
    "import datetime\n",
    "\n",
    "%matplotlib inline"
   ]
  },
  {
   "cell_type": "markdown",
   "metadata": {},
   "source": [
    "# Polynomial Regression with Ridge regularization (general functions)"
   ]
  },
  {
   "cell_type": "markdown",
   "metadata": {},
   "source": [
    "First, we define general functions that iterate over degree, lambda and evaluate the regression. After that we use these functions on our trip and weather data to predict demand. "
   ]
  },
  {
   "cell_type": "markdown",
   "metadata": {},
   "source": [
    "## 1. Finding an appropriate Degree"
   ]
  },
  {
   "cell_type": "code",
   "execution_count": 2,
   "metadata": {},
   "outputs": [],
   "source": [
    "#import libraries\n",
    "from sklearn.preprocessing import PolynomialFeatures\n",
    "from sklearn.linear_model import Ridge\n",
    "\n",
    "#Firstly we want to iterate over the degree in order to find a good approximation of our data without overfitting\n",
    "def iterating_over_degree(x, y, MAXdeg): \n",
    "\n",
    "    x_train, x_hold, y_train, y_hold = train_test_split(x, y, test_size=(0.2/0.7), random_state=34 ) #0.2/0.7 because we divided the set already in 70% train+holdout earlier\n",
    "\n",
    "    err_train = []\n",
    "    err_hold = []\n",
    "\n",
    "    for deg in range(1, MAXdeg): #iterating over degree\n",
    "        \n",
    "        #create poly features\n",
    "        Poly = PolynomialFeatures(degree = deg)\n",
    "        X_train_poly = Poly.fit_transform(x_train)\n",
    "        X_hold_poly = Poly.fit_transform(x_hold)\n",
    "\n",
    "        #fit model\n",
    "        model_L2 = Ridge(alpha = 0, normalize = True, solver = 'lsqr') # select least squares regression as solver\n",
    "        model_L2.fit(X_train_poly, y_train)\n",
    "\n",
    "        #compute errors\n",
    "        err_train.append(mean_squared_error(model_L2.predict(X_train_poly), y_train))\n",
    "        err_hold.append(mean_squared_error(model_L2.predict(X_hold_poly), y_hold))\n",
    "\n",
    "    #plotting errors\n",
    "    plt.figure(figsize = (8,5))    \n",
    "    plt.semilogy(range(1, MAXdeg), err_train, range(1, MAXdeg), err_hold)\n",
    "    plt.legend([\"Training\", \"Holdout\"])\n",
    "    plt.xlabel(\"Polynomial degree\")\n",
    "    plt.ylabel(\"Mean squared error\")\n",
    "    plt.show()"
   ]
  },
  {
   "cell_type": "markdown",
   "metadata": {},
   "source": [
    "## 2. Finding an appropriate Lambda for the Ridge Regression"
   ]
  },
  {
   "cell_type": "code",
   "execution_count": 3,
   "metadata": {},
   "outputs": [],
   "source": [
    "#After that we want to iterate over lambda/alpha in order to find a good regularization parameter\n",
    "def iterating_over_lambda (x, y, deg, MINlambda, MAXlambda): #Min- and Maxlambda as Limits for Lambda over logarithmic space\n",
    "\n",
    "    err_train = []\n",
    "    err_hold = []\n",
    "    \n",
    "    x_train, x_hold, y_train, y_hold = train_test_split(x, y, test_size=(0.2/0.7), random_state=34 ) #0.2/0.7 because we divided the set already in 70% train+holdout earlier\n",
    "\n",
    "    for lam in np.logspace(MINlambda,MAXlambda,100):\n",
    "        \n",
    "        #create poly features\n",
    "        Poly = PolynomialFeatures(degree = deg)\n",
    "        X_train_poly = Poly.fit_transform(x_train)\n",
    "        X_hold_poly = Poly.fit_transform(x_hold)\n",
    "\n",
    "        #fit model\n",
    "        model_L2 = Ridge(alpha = lam, normalize = True, solver = 'lsqr') # select least squares regression as solver\n",
    "        model_L2.fit(X_train_poly, y_train)\n",
    "\n",
    "        #compute errors\n",
    "        err_train.append(mean_squared_error(model_L2.predict(X_train_poly), y_train))\n",
    "        err_hold.append(mean_squared_error(model_L2.predict(X_hold_poly), y_hold))\n",
    "\n",
    "    #plotting errors\n",
    "    plt.figure(figsize = (8,5))\n",
    "    plt.loglog(np.logspace(MINlambda,MAXlambda,100), err_train, np.logspace(MINlambda,MAXlambda,100), err_hold)\n",
    "    plt.legend([\"Training\", \"Holdout\"])\n",
    "    plt.xlabel(\"$\\lambda$ (or alpha in scikit learn terms)\")\n",
    "    plt.ylabel(\"Mean squared error\")\n",
    "    plt.show()"
   ]
  },
  {
   "cell_type": "markdown",
   "metadata": {},
   "source": [
    "## 3. Evaluating the model"
   ]
  },
  {
   "cell_type": "code",
   "execution_count": 4,
   "metadata": {},
   "outputs": [],
   "source": [
    "#Now we evaluate the model with given degree and lambda\n",
    "def evaluate_L2(x,y,deg, lam):\n",
    "   \n",
    "    #create poly features\n",
    "    Poly = PolynomialFeatures(degree = deg)\n",
    "    X_poly = Poly.fit_transform(x)\n",
    "\n",
    "    #fit model\n",
    "    model_L2 = Ridge(alpha = lam, normalize = True, solver = 'lsqr') # select least squares regression as solver\n",
    "    model_L2.fit(X_poly, y)\n",
    "    \n",
    "    #print the evaluation metrics\n",
    "    print(\"Mean-Squared-Error: \", mean_squared_error(model_L2.predict(X_poly), y) )\n",
    "    print(\"Mean-Absolute-Error: \", mean_absolute_error(model_L2.predict(X_poly), y) )\n",
    "    print(\"R2 Score: \", r2_score(model_L2.predict(X_poly), y))"
   ]
  },
  {
   "cell_type": "markdown",
   "metadata": {},
   "source": [
    "## Import our data"
   ]
  },
  {
   "cell_type": "code",
   "execution_count": 5,
   "metadata": {},
   "outputs": [
    {
     "data": {
      "text/html": [
       "<div>\n",
       "<style scoped>\n",
       "    .dataframe tbody tr th:only-of-type {\n",
       "        vertical-align: middle;\n",
       "    }\n",
       "\n",
       "    .dataframe tbody tr th {\n",
       "        vertical-align: top;\n",
       "    }\n",
       "\n",
       "    .dataframe thead th {\n",
       "        text-align: right;\n",
       "    }\n",
       "</style>\n",
       "<table border=\"1\" class=\"dataframe\">\n",
       "  <thead>\n",
       "    <tr style=\"text-align: right;\">\n",
       "      <th></th>\n",
       "      <th>temperature</th>\n",
       "      <th>precipitation</th>\n",
       "      <th>cloud_coverage</th>\n",
       "      <th>wind_velocity</th>\n",
       "      <th>h</th>\n",
       "    </tr>\n",
       "    <tr>\n",
       "      <th>timestamp</th>\n",
       "      <th></th>\n",
       "      <th></th>\n",
       "      <th></th>\n",
       "      <th></th>\n",
       "      <th></th>\n",
       "    </tr>\n",
       "  </thead>\n",
       "  <tbody>\n",
       "    <tr>\n",
       "      <th>2019-01-20 00:00:00</th>\n",
       "      <td>-7.9</td>\n",
       "      <td>0.0</td>\n",
       "      <td>5</td>\n",
       "      <td>3.0</td>\n",
       "      <td>2019-01-20 00:00:00</td>\n",
       "    </tr>\n",
       "    <tr>\n",
       "      <th>2019-01-20 01:00:00</th>\n",
       "      <td>-8.3</td>\n",
       "      <td>0.0</td>\n",
       "      <td>0</td>\n",
       "      <td>2.6</td>\n",
       "      <td>2019-01-20 01:00:00</td>\n",
       "    </tr>\n",
       "    <tr>\n",
       "      <th>2019-01-20 02:00:00</th>\n",
       "      <td>-8.7</td>\n",
       "      <td>0.0</td>\n",
       "      <td>0</td>\n",
       "      <td>3.0</td>\n",
       "      <td>2019-01-20 02:00:00</td>\n",
       "    </tr>\n",
       "    <tr>\n",
       "      <th>2019-01-20 03:00:00</th>\n",
       "      <td>-8.9</td>\n",
       "      <td>0.0</td>\n",
       "      <td>0</td>\n",
       "      <td>3.1</td>\n",
       "      <td>2019-01-20 03:00:00</td>\n",
       "    </tr>\n",
       "    <tr>\n",
       "      <th>2019-01-20 04:00:00</th>\n",
       "      <td>-8.7</td>\n",
       "      <td>0.0</td>\n",
       "      <td>0</td>\n",
       "      <td>3.1</td>\n",
       "      <td>2019-01-20 04:00:00</td>\n",
       "    </tr>\n",
       "    <tr>\n",
       "      <th>...</th>\n",
       "      <td>...</td>\n",
       "      <td>...</td>\n",
       "      <td>...</td>\n",
       "      <td>...</td>\n",
       "      <td>...</td>\n",
       "    </tr>\n",
       "    <tr>\n",
       "      <th>2020-01-20 19:00:00</th>\n",
       "      <td>-1.5</td>\n",
       "      <td>0.0</td>\n",
       "      <td>0</td>\n",
       "      <td>1.7</td>\n",
       "      <td>2020-01-20 19:00:00</td>\n",
       "    </tr>\n",
       "    <tr>\n",
       "      <th>2020-01-20 20:00:00</th>\n",
       "      <td>-1.7</td>\n",
       "      <td>0.0</td>\n",
       "      <td>0</td>\n",
       "      <td>1.9</td>\n",
       "      <td>2020-01-20 20:00:00</td>\n",
       "    </tr>\n",
       "    <tr>\n",
       "      <th>2020-01-20 21:00:00</th>\n",
       "      <td>-2.3</td>\n",
       "      <td>0.0</td>\n",
       "      <td>0</td>\n",
       "      <td>1.8</td>\n",
       "      <td>2020-01-20 21:00:00</td>\n",
       "    </tr>\n",
       "    <tr>\n",
       "      <th>2020-01-20 22:00:00</th>\n",
       "      <td>-2.7</td>\n",
       "      <td>0.0</td>\n",
       "      <td>0</td>\n",
       "      <td>1.8</td>\n",
       "      <td>2020-01-20 22:00:00</td>\n",
       "    </tr>\n",
       "    <tr>\n",
       "      <th>2020-01-20 23:00:00</th>\n",
       "      <td>-3.2</td>\n",
       "      <td>0.0</td>\n",
       "      <td>0</td>\n",
       "      <td>1.3</td>\n",
       "      <td>2020-01-20 23:00:00</td>\n",
       "    </tr>\n",
       "  </tbody>\n",
       "</table>\n",
       "<p>8784 rows × 5 columns</p>\n",
       "</div>"
      ],
      "text/plain": [
       "                     temperature  precipitation  cloud_coverage  \\\n",
       "timestamp                                                         \n",
       "2019-01-20 00:00:00         -7.9            0.0               5   \n",
       "2019-01-20 01:00:00         -8.3            0.0               0   \n",
       "2019-01-20 02:00:00         -8.7            0.0               0   \n",
       "2019-01-20 03:00:00         -8.9            0.0               0   \n",
       "2019-01-20 04:00:00         -8.7            0.0               0   \n",
       "...                          ...            ...             ...   \n",
       "2020-01-20 19:00:00         -1.5            0.0               0   \n",
       "2020-01-20 20:00:00         -1.7            0.0               0   \n",
       "2020-01-20 21:00:00         -2.3            0.0               0   \n",
       "2020-01-20 22:00:00         -2.7            0.0               0   \n",
       "2020-01-20 23:00:00         -3.2            0.0               0   \n",
       "\n",
       "                     wind_velocity                   h  \n",
       "timestamp                                               \n",
       "2019-01-20 00:00:00            3.0 2019-01-20 00:00:00  \n",
       "2019-01-20 01:00:00            2.6 2019-01-20 01:00:00  \n",
       "2019-01-20 02:00:00            3.0 2019-01-20 02:00:00  \n",
       "2019-01-20 03:00:00            3.1 2019-01-20 03:00:00  \n",
       "2019-01-20 04:00:00            3.1 2019-01-20 04:00:00  \n",
       "...                            ...                 ...  \n",
       "2020-01-20 19:00:00            1.7 2020-01-20 19:00:00  \n",
       "2020-01-20 20:00:00            1.9 2020-01-20 20:00:00  \n",
       "2020-01-20 21:00:00            1.8 2020-01-20 21:00:00  \n",
       "2020-01-20 22:00:00            1.8 2020-01-20 22:00:00  \n",
       "2020-01-20 23:00:00            1.3 2020-01-20 23:00:00  \n",
       "\n",
       "[8784 rows x 5 columns]"
      ]
     },
     "execution_count": 5,
     "metadata": {},
     "output_type": "execute_result"
    }
   ],
   "source": [
    "marburg = pd.read_pickle(\"../0_data/marburg_clean.pkl\")\n",
    "duisburg = pd.read_pickle('../0_data/duisburg_clean.pkl')\n",
    "marburg_weather = pd.read_pickle(\"../0_data/weather/marburg_weather.pkl\")\n",
    "duisburg_weather = pd.read_pickle(\"../0_data/weather/duisburg_weather.pkl\")\n",
    "marburg_weather[\"h\"]= marburg_weather.index\n",
    "marburg_weather"
   ]
  },
  {
   "cell_type": "markdown",
   "metadata": {},
   "source": [
    "# Marburg"
   ]
  },
  {
   "cell_type": "code",
   "execution_count": 6,
   "metadata": {},
   "outputs": [],
   "source": [
    "#creating new dataframe by hour with demand column\n",
    "ma = pd.DataFrame(marburg.resample('H').count()[\"day\"])\n",
    "ma.rename(columns={'day': 'demand'}, inplace=True)\n",
    "\n",
    "#creating possible features \n",
    "ma['dayofyear'] = ma.index.map(lambda datetime : datetime.dayofyear)\n",
    "ma['week'] = ma.index.map(lambda datetime : datetime.week)\n",
    "ma['weekday'] = ma.index.map(lambda datetime : datetime.weekday)\n",
    "ma['is_weekday'] = ma['weekday'].map(lambda day : day < 5)\n",
    "ma['hour'] = ma.index.map(lambda datetime : datetime.hour)\n",
    "\n",
    "ma = ma.merge(marburg_weather, left_index=True, right_index=True) #Merging weather and bicycle data"
   ]
  },
  {
   "cell_type": "markdown",
   "metadata": {},
   "source": [
    "## 1. Finding Degree"
   ]
  },
  {
   "cell_type": "code",
   "execution_count": 7,
   "metadata": {},
   "outputs": [],
   "source": [
    "X_ma = ma[['temperature', 'hour', 'precipitation', 'week', 'weekday', 'is_weekday']]\n",
    "y_ma = ma['demand']\n",
    "\n",
    "X_train_ma, X_test_ma, y_train_ma, y_test_ma = train_test_split(X_ma, y_ma, test_size=0.3,random_state=34 )"
   ]
  },
  {
   "cell_type": "code",
   "execution_count": 8,
   "metadata": {
    "scrolled": true
   },
   "outputs": [
    {
     "data": {
      "image/png": "[encoded data removed]",
      "text/plain": [
       "<Figure size 576x360 with 1 Axes>"
      ]
     },
     "metadata": {
      "needs_background": "light"
     },
     "output_type": "display_data"
    }
   ],
   "source": [
    "iterating_over_degree(X_train_ma,y_train_ma,12)"
   ]
  },
  {
   "cell_type": "markdown",
   "metadata": {},
   "source": [
    "We see that there is only a significant improvement in the MSE up to a degree of 8."
   ]
  },
  {
   "cell_type": "markdown",
   "metadata": {},
   "source": [
    "## 2. Finding lambda"
   ]
  },
  {
   "cell_type": "code",
   "execution_count": null,
   "metadata": {},
   "outputs": [],
   "source": [
    "iterating_over_lambda(X_train_ma.values,y_train_ma.values,8,-4, 1)"
   ]
  },
  {
   "cell_type": "markdown",
   "metadata": {},
   "source": [
    "We choose a lambda of 0.0001."
   ]
  },
  {
   "cell_type": "markdown",
   "metadata": {},
   "source": [
    "## 3. Evaluating Model"
   ]
  },
  {
   "cell_type": "markdown",
   "metadata": {},
   "source": [
    "First we evaluate our model without the regularization parameter lambda:"
   ]
  },
  {
   "cell_type": "code",
   "execution_count": null,
   "metadata": {
    "scrolled": true
   },
   "outputs": [],
   "source": [
    "evaluate_L2(X_test_ma,y_test_ma,8,0)"
   ]
  },
  {
   "cell_type": "markdown",
   "metadata": {},
   "source": [
    "Then we include regularization with the lambda value found above:"
   ]
  },
  {
   "cell_type": "code",
   "execution_count": null,
   "metadata": {},
   "outputs": [],
   "source": [
    "evaluate_L2(X_test_ma,y_test_ma,8,0.0001)"
   ]
  },
  {
   "cell_type": "markdown",
   "metadata": {},
   "source": [
    "Contrary to our expectation, adding a regularization does not significantly improve the evaluation metrics. This could be explained by our comparatively low degree of 8. Therefore, it does not help to improve our model and could be skipped in future calculations of the same form. "
   ]
  },
  {
   "cell_type": "markdown",
   "metadata": {},
   "source": [
    "# Duisburg"
   ]
  },
  {
   "cell_type": "code",
   "execution_count": null,
   "metadata": {},
   "outputs": [],
   "source": [
    "#creating new dataframe by hour with demand column\n",
    "du = pd.DataFrame(duisburg.resample('H').count()[\"day\"])\n",
    "du.rename(columns={'day': 'demand'}, inplace=True)\n",
    "\n",
    "#creating features \n",
    "du['dayofyear'] = du.index.map(lambda datetime : datetime.dayofyear)\n",
    "du['week'] = du.index.map(lambda datetime : datetime.week)\n",
    "du['weekday'] = du.index.map(lambda datetime : datetime.weekday)\n",
    "du['is_weekday'] = du['weekday'].map(lambda day : day < 5)\n",
    "du['hour'] = du.index.map(lambda datetime : datetime.hour)\n",
    "\n",
    "du = du.merge(duisburg_weather, left_index=True, right_index=True) #merging data frames"
   ]
  },
  {
   "cell_type": "markdown",
   "metadata": {},
   "source": [
    "## 1. Finding Degree"
   ]
  },
  {
   "cell_type": "code",
   "execution_count": null,
   "metadata": {},
   "outputs": [],
   "source": [
    "X_du = du[['temperature', 'hour', 'precipitation', 'week', 'weekday', 'is_weekday']]\n",
    "y_du = du['demand']\n",
    "\n",
    "X_train_du, X_test_du, y_train_du, y_test_du = train_test_split(X_du, y_du, test_size=0.3,random_state=34 )"
   ]
  },
  {
   "cell_type": "code",
   "execution_count": null,
   "metadata": {
    "scrolled": false
   },
   "outputs": [],
   "source": [
    "iterating_over_degree(X_train_du,y_train_du,12)"
   ]
  },
  {
   "cell_type": "markdown",
   "metadata": {},
   "source": [
    "The graph shows that there is only a significant improvement in the mean squared error up to a degree of 7."
   ]
  },
  {
   "cell_type": "markdown",
   "metadata": {},
   "source": [
    "## 2. Find Lambda"
   ]
  },
  {
   "cell_type": "code",
   "execution_count": null,
   "metadata": {},
   "outputs": [],
   "source": [
    "iterating_over_lambda(X_train_du.values,y_train_du.values,7,-5, 2)"
   ]
  },
  {
   "cell_type": "markdown",
   "metadata": {},
   "source": [
    "We choose a lambda of 0.001."
   ]
  },
  {
   "cell_type": "markdown",
   "metadata": {},
   "source": [
    "## 3. Evaluating Model"
   ]
  },
  {
   "cell_type": "markdown",
   "metadata": {},
   "source": [
    "First we evaluate our model without the regularization parameter lambda:"
   ]
  },
  {
   "cell_type": "code",
   "execution_count": null,
   "metadata": {
    "scrolled": true
   },
   "outputs": [],
   "source": [
    "evaluate_L2(X_test_du,y_test_du,7,0)"
   ]
  },
  {
   "cell_type": "markdown",
   "metadata": {},
   "source": [
    "Then we include regularization with the lambda value found above:"
   ]
  },
  {
   "cell_type": "code",
   "execution_count": null,
   "metadata": {},
   "outputs": [],
   "source": [
    "evaluate_L2(X_test_du,y_test_du,7,0.001)"
   ]
  },
  {
   "cell_type": "markdown",
   "metadata": {},
   "source": [
    "As already observed in the Marburg data, adding a regularization does not significantly improve the evaluation metrics. This could be explained by our comparatively low degree of 4. Therefore, it does not help to improve our model and could be skipped in future calculations of the same form. "
   ]
  }
 ],
 "metadata": {
  "kernelspec": {
   "display_name": "Python 3",
   "language": "python",
   "name": "python3"
  },
  "language_info": {
   "codemirror_mode": {
    "name": "ipython",
    "version": 3
   },
   "file_extension": ".py",
   "mimetype": "text/x-python",
   "name": "python",
   "nbconvert_exporter": "python",
   "pygments_lexer": "ipython3",
   "version": "3.7.7"
  }
 },
 "nbformat": 4,
 "nbformat_minor": 4
}
