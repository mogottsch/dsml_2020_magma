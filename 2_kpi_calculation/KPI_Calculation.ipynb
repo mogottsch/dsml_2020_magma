{
 "cells": [
  {
   "cell_type": "code",
   "execution_count": 7,
   "metadata": {},
   "outputs": [],
   "source": [
    "# import all relevant libraries\n",
    "import pandas as pd\n",
    "import numpy as np\n",
    "import matplotlib.pyplot as plt\n",
    "import seaborn as sns\n",
    "import folium\n",
    "from folium import plugins\n",
    "from folium.plugins import HeatMap\n",
    "from datetime import datetime\n",
    "from datetime import timedelta\n",
    "import math\n",
    "import random\n",
    "import timeit\n",
    "import pickle"
   ]
  },
  {
   "cell_type": "markdown",
   "metadata": {},
   "source": [
    "---"
   ]
  },
  {
   "cell_type": "code",
   "execution_count": 9,
   "metadata": {},
   "outputs": [
    {
     "ename": "FileNotFoundError",
     "evalue": "[Errno 2] File ../data_0/marburg.csv does not exist: '../data_0/marburg.csv'",
     "output_type": "error",
     "traceback": [
      "\u001b[1;31m---------------------------------------------------------------------------\u001b[0m",
      "\u001b[1;31mFileNotFoundError\u001b[0m                         Traceback (most recent call last)",
      "\u001b[1;32m<ipython-input-9-543493f18151>\u001b[0m in \u001b[0;36m<module>\u001b[1;34m\u001b[0m\n\u001b[0;32m      1\u001b[0m \u001b[1;31m#First we read collected and already cleaned data\u001b[0m\u001b[1;33m\u001b[0m\u001b[1;33m\u001b[0m\u001b[1;33m\u001b[0m\u001b[0m\n\u001b[1;32m----> 2\u001b[1;33m \u001b[0mmarburg\u001b[0m \u001b[1;33m=\u001b[0m \u001b[0mpd\u001b[0m\u001b[1;33m.\u001b[0m\u001b[0mread_csv\u001b[0m\u001b[1;33m(\u001b[0m\u001b[1;34m\"../data_0/marburg.csv\"\u001b[0m\u001b[1;33m)\u001b[0m\u001b[1;33m\u001b[0m\u001b[1;33m\u001b[0m\u001b[0m\n\u001b[0m\u001b[0;32m      3\u001b[0m \u001b[0mduisburg\u001b[0m \u001b[1;33m=\u001b[0m \u001b[0mpd\u001b[0m\u001b[1;33m.\u001b[0m\u001b[0mread_csv\u001b[0m\u001b[1;33m(\u001b[0m\u001b[1;34m\"../data_0/duisburg.csv\"\u001b[0m\u001b[1;33m)\u001b[0m\u001b[1;33m\u001b[0m\u001b[1;33m\u001b[0m\u001b[0m\n\u001b[0;32m      4\u001b[0m \u001b[0mmarburg_weather\u001b[0m \u001b[1;33m=\u001b[0m \u001b[0mpd\u001b[0m\u001b[1;33m.\u001b[0m\u001b[0mread_csv\u001b[0m\u001b[1;33m(\u001b[0m\u001b[1;34m\"../data_0/weather/marburg_weather.csv\"\u001b[0m\u001b[1;33m)\u001b[0m\u001b[1;33m\u001b[0m\u001b[1;33m\u001b[0m\u001b[0m\n\u001b[0;32m      5\u001b[0m \u001b[0mduisburg_weather\u001b[0m \u001b[1;33m=\u001b[0m \u001b[0mpd\u001b[0m\u001b[1;33m.\u001b[0m\u001b[0mread_csv\u001b[0m\u001b[1;33m(\u001b[0m\u001b[1;34m\"../data_0/weather/duisburg_weather.csv\"\u001b[0m\u001b[1;33m)\u001b[0m\u001b[1;33m\u001b[0m\u001b[1;33m\u001b[0m\u001b[0m\n",
      "\u001b[1;32mD:\\anaconda3\\lib\\site-packages\\pandas\\io\\parsers.py\u001b[0m in \u001b[0;36mparser_f\u001b[1;34m(filepath_or_buffer, sep, delimiter, header, names, index_col, usecols, squeeze, prefix, mangle_dupe_cols, dtype, engine, converters, true_values, false_values, skipinitialspace, skiprows, skipfooter, nrows, na_values, keep_default_na, na_filter, verbose, skip_blank_lines, parse_dates, infer_datetime_format, keep_date_col, date_parser, dayfirst, cache_dates, iterator, chunksize, compression, thousands, decimal, lineterminator, quotechar, quoting, doublequote, escapechar, comment, encoding, dialect, error_bad_lines, warn_bad_lines, delim_whitespace, low_memory, memory_map, float_precision)\u001b[0m\n\u001b[0;32m    674\u001b[0m         )\n\u001b[0;32m    675\u001b[0m \u001b[1;33m\u001b[0m\u001b[0m\n\u001b[1;32m--> 676\u001b[1;33m         \u001b[1;32mreturn\u001b[0m \u001b[0m_read\u001b[0m\u001b[1;33m(\u001b[0m\u001b[0mfilepath_or_buffer\u001b[0m\u001b[1;33m,\u001b[0m \u001b[0mkwds\u001b[0m\u001b[1;33m)\u001b[0m\u001b[1;33m\u001b[0m\u001b[1;33m\u001b[0m\u001b[0m\n\u001b[0m\u001b[0;32m    677\u001b[0m \u001b[1;33m\u001b[0m\u001b[0m\n\u001b[0;32m    678\u001b[0m     \u001b[0mparser_f\u001b[0m\u001b[1;33m.\u001b[0m\u001b[0m__name__\u001b[0m \u001b[1;33m=\u001b[0m \u001b[0mname\u001b[0m\u001b[1;33m\u001b[0m\u001b[1;33m\u001b[0m\u001b[0m\n",
      "\u001b[1;32mD:\\anaconda3\\lib\\site-packages\\pandas\\io\\parsers.py\u001b[0m in \u001b[0;36m_read\u001b[1;34m(filepath_or_buffer, kwds)\u001b[0m\n\u001b[0;32m    446\u001b[0m \u001b[1;33m\u001b[0m\u001b[0m\n\u001b[0;32m    447\u001b[0m     \u001b[1;31m# Create the parser.\u001b[0m\u001b[1;33m\u001b[0m\u001b[1;33m\u001b[0m\u001b[1;33m\u001b[0m\u001b[0m\n\u001b[1;32m--> 448\u001b[1;33m     \u001b[0mparser\u001b[0m \u001b[1;33m=\u001b[0m \u001b[0mTextFileReader\u001b[0m\u001b[1;33m(\u001b[0m\u001b[0mfp_or_buf\u001b[0m\u001b[1;33m,\u001b[0m \u001b[1;33m**\u001b[0m\u001b[0mkwds\u001b[0m\u001b[1;33m)\u001b[0m\u001b[1;33m\u001b[0m\u001b[1;33m\u001b[0m\u001b[0m\n\u001b[0m\u001b[0;32m    449\u001b[0m \u001b[1;33m\u001b[0m\u001b[0m\n\u001b[0;32m    450\u001b[0m     \u001b[1;32mif\u001b[0m \u001b[0mchunksize\u001b[0m \u001b[1;32mor\u001b[0m \u001b[0miterator\u001b[0m\u001b[1;33m:\u001b[0m\u001b[1;33m\u001b[0m\u001b[1;33m\u001b[0m\u001b[0m\n",
      "\u001b[1;32mD:\\anaconda3\\lib\\site-packages\\pandas\\io\\parsers.py\u001b[0m in \u001b[0;36m__init__\u001b[1;34m(self, f, engine, **kwds)\u001b[0m\n\u001b[0;32m    878\u001b[0m             \u001b[0mself\u001b[0m\u001b[1;33m.\u001b[0m\u001b[0moptions\u001b[0m\u001b[1;33m[\u001b[0m\u001b[1;34m\"has_index_names\"\u001b[0m\u001b[1;33m]\u001b[0m \u001b[1;33m=\u001b[0m \u001b[0mkwds\u001b[0m\u001b[1;33m[\u001b[0m\u001b[1;34m\"has_index_names\"\u001b[0m\u001b[1;33m]\u001b[0m\u001b[1;33m\u001b[0m\u001b[1;33m\u001b[0m\u001b[0m\n\u001b[0;32m    879\u001b[0m \u001b[1;33m\u001b[0m\u001b[0m\n\u001b[1;32m--> 880\u001b[1;33m         \u001b[0mself\u001b[0m\u001b[1;33m.\u001b[0m\u001b[0m_make_engine\u001b[0m\u001b[1;33m(\u001b[0m\u001b[0mself\u001b[0m\u001b[1;33m.\u001b[0m\u001b[0mengine\u001b[0m\u001b[1;33m)\u001b[0m\u001b[1;33m\u001b[0m\u001b[1;33m\u001b[0m\u001b[0m\n\u001b[0m\u001b[0;32m    881\u001b[0m \u001b[1;33m\u001b[0m\u001b[0m\n\u001b[0;32m    882\u001b[0m     \u001b[1;32mdef\u001b[0m \u001b[0mclose\u001b[0m\u001b[1;33m(\u001b[0m\u001b[0mself\u001b[0m\u001b[1;33m)\u001b[0m\u001b[1;33m:\u001b[0m\u001b[1;33m\u001b[0m\u001b[1;33m\u001b[0m\u001b[0m\n",
      "\u001b[1;32mD:\\anaconda3\\lib\\site-packages\\pandas\\io\\parsers.py\u001b[0m in \u001b[0;36m_make_engine\u001b[1;34m(self, engine)\u001b[0m\n\u001b[0;32m   1112\u001b[0m     \u001b[1;32mdef\u001b[0m \u001b[0m_make_engine\u001b[0m\u001b[1;33m(\u001b[0m\u001b[0mself\u001b[0m\u001b[1;33m,\u001b[0m \u001b[0mengine\u001b[0m\u001b[1;33m=\u001b[0m\u001b[1;34m\"c\"\u001b[0m\u001b[1;33m)\u001b[0m\u001b[1;33m:\u001b[0m\u001b[1;33m\u001b[0m\u001b[1;33m\u001b[0m\u001b[0m\n\u001b[0;32m   1113\u001b[0m         \u001b[1;32mif\u001b[0m \u001b[0mengine\u001b[0m \u001b[1;33m==\u001b[0m \u001b[1;34m\"c\"\u001b[0m\u001b[1;33m:\u001b[0m\u001b[1;33m\u001b[0m\u001b[1;33m\u001b[0m\u001b[0m\n\u001b[1;32m-> 1114\u001b[1;33m             \u001b[0mself\u001b[0m\u001b[1;33m.\u001b[0m\u001b[0m_engine\u001b[0m \u001b[1;33m=\u001b[0m \u001b[0mCParserWrapper\u001b[0m\u001b[1;33m(\u001b[0m\u001b[0mself\u001b[0m\u001b[1;33m.\u001b[0m\u001b[0mf\u001b[0m\u001b[1;33m,\u001b[0m \u001b[1;33m**\u001b[0m\u001b[0mself\u001b[0m\u001b[1;33m.\u001b[0m\u001b[0moptions\u001b[0m\u001b[1;33m)\u001b[0m\u001b[1;33m\u001b[0m\u001b[1;33m\u001b[0m\u001b[0m\n\u001b[0m\u001b[0;32m   1115\u001b[0m         \u001b[1;32melse\u001b[0m\u001b[1;33m:\u001b[0m\u001b[1;33m\u001b[0m\u001b[1;33m\u001b[0m\u001b[0m\n\u001b[0;32m   1116\u001b[0m             \u001b[1;32mif\u001b[0m \u001b[0mengine\u001b[0m \u001b[1;33m==\u001b[0m \u001b[1;34m\"python\"\u001b[0m\u001b[1;33m:\u001b[0m\u001b[1;33m\u001b[0m\u001b[1;33m\u001b[0m\u001b[0m\n",
      "\u001b[1;32mD:\\anaconda3\\lib\\site-packages\\pandas\\io\\parsers.py\u001b[0m in \u001b[0;36m__init__\u001b[1;34m(self, src, **kwds)\u001b[0m\n\u001b[0;32m   1889\u001b[0m         \u001b[0mkwds\u001b[0m\u001b[1;33m[\u001b[0m\u001b[1;34m\"usecols\"\u001b[0m\u001b[1;33m]\u001b[0m \u001b[1;33m=\u001b[0m \u001b[0mself\u001b[0m\u001b[1;33m.\u001b[0m\u001b[0musecols\u001b[0m\u001b[1;33m\u001b[0m\u001b[1;33m\u001b[0m\u001b[0m\n\u001b[0;32m   1890\u001b[0m \u001b[1;33m\u001b[0m\u001b[0m\n\u001b[1;32m-> 1891\u001b[1;33m         \u001b[0mself\u001b[0m\u001b[1;33m.\u001b[0m\u001b[0m_reader\u001b[0m \u001b[1;33m=\u001b[0m \u001b[0mparsers\u001b[0m\u001b[1;33m.\u001b[0m\u001b[0mTextReader\u001b[0m\u001b[1;33m(\u001b[0m\u001b[0msrc\u001b[0m\u001b[1;33m,\u001b[0m \u001b[1;33m**\u001b[0m\u001b[0mkwds\u001b[0m\u001b[1;33m)\u001b[0m\u001b[1;33m\u001b[0m\u001b[1;33m\u001b[0m\u001b[0m\n\u001b[0m\u001b[0;32m   1892\u001b[0m         \u001b[0mself\u001b[0m\u001b[1;33m.\u001b[0m\u001b[0munnamed_cols\u001b[0m \u001b[1;33m=\u001b[0m \u001b[0mself\u001b[0m\u001b[1;33m.\u001b[0m\u001b[0m_reader\u001b[0m\u001b[1;33m.\u001b[0m\u001b[0munnamed_cols\u001b[0m\u001b[1;33m\u001b[0m\u001b[1;33m\u001b[0m\u001b[0m\n\u001b[0;32m   1893\u001b[0m \u001b[1;33m\u001b[0m\u001b[0m\n",
      "\u001b[1;32mpandas\\_libs\\parsers.pyx\u001b[0m in \u001b[0;36mpandas._libs.parsers.TextReader.__cinit__\u001b[1;34m()\u001b[0m\n",
      "\u001b[1;32mpandas\\_libs\\parsers.pyx\u001b[0m in \u001b[0;36mpandas._libs.parsers.TextReader._setup_parser_source\u001b[1;34m()\u001b[0m\n",
      "\u001b[1;31mFileNotFoundError\u001b[0m: [Errno 2] File ../data_0/marburg.csv does not exist: '../data_0/marburg.csv'"
     ]
    }
   ],
   "source": [
    "#First we read collected and already cleaned data\n",
    "marburg = pd.read_csv(\"../data_0/marburg.csv\")\n",
    "duisburg = pd.read_csv(\"../data_0/duisburg.csv\")\n",
    "marburg_weather = pd.read_csv(\"../data_0/weather/marburg_weather.csv\")\n",
    "duisburg_weather = pd.read_csv(\"../data_0/weather/duisburg_weather.csv\")"
   ]
  },
  {
   "cell_type": "markdown",
   "metadata": {},
   "source": [
    "# KPIs"
   ]
  },
  {
   "cell_type": "markdown",
   "metadata": {},
   "source": [
    "## Utilization / Peak Utilization (Anne)"
   ]
  },
  {
   "cell_type": "code",
   "execution_count": 61,
   "metadata": {},
   "outputs": [
    {
     "data": {
      "text/html": [
       "<div>\n",
       "<style scoped>\n",
       "    .dataframe tbody tr th:only-of-type {\n",
       "        vertical-align: middle;\n",
       "    }\n",
       "\n",
       "    .dataframe tbody tr th {\n",
       "        vertical-align: top;\n",
       "    }\n",
       "\n",
       "    .dataframe thead th {\n",
       "        text-align: right;\n",
       "    }\n",
       "</style>\n",
       "<table border=\"1\" class=\"dataframe\">\n",
       "  <thead>\n",
       "    <tr style=\"text-align: right;\">\n",
       "      <th></th>\n",
       "      <th>day</th>\n",
       "      <th>time</th>\n",
       "      <th>b_number</th>\n",
       "      <th>city</th>\n",
       "      <th>orig</th>\n",
       "      <th>dest</th>\n",
       "      <th>weekday</th>\n",
       "      <th>hour</th>\n",
       "      <th>trip_duration_mins</th>\n",
       "    </tr>\n",
       "    <tr>\n",
       "      <th>datetime</th>\n",
       "      <th></th>\n",
       "      <th></th>\n",
       "      <th></th>\n",
       "      <th></th>\n",
       "      <th></th>\n",
       "      <th></th>\n",
       "      <th></th>\n",
       "      <th></th>\n",
       "      <th></th>\n",
       "    </tr>\n",
       "  </thead>\n",
       "  <tbody>\n",
       "    <tr>\n",
       "      <th>2019-07-04 13:29:00</th>\n",
       "      <td>2019-07-04</td>\n",
       "      <td>13:29:00</td>\n",
       "      <td>11070</td>\n",
       "      <td>marburg</td>\n",
       "      <td>(50.8081, 8.7754)</td>\n",
       "      <td>(50.811, 8.7742)</td>\n",
       "      <td>3</td>\n",
       "      <td>13</td>\n",
       "      <td>41</td>\n",
       "    </tr>\n",
       "    <tr>\n",
       "      <th>2019-07-06 16:53:00</th>\n",
       "      <td>2019-07-06</td>\n",
       "      <td>16:53:00</td>\n",
       "      <td>11070</td>\n",
       "      <td>marburg</td>\n",
       "      <td>(50.7987, 8.753)</td>\n",
       "      <td>(50.8058, 8.7828)</td>\n",
       "      <td>5</td>\n",
       "      <td>16</td>\n",
       "      <td>19</td>\n",
       "    </tr>\n",
       "    <tr>\n",
       "      <th>2019-07-06 17:18:00</th>\n",
       "      <td>2019-07-06</td>\n",
       "      <td>17:18:00</td>\n",
       "      <td>11070</td>\n",
       "      <td>marburg</td>\n",
       "      <td>(50.8058, 8.7828)</td>\n",
       "      <td>(50.8229, 8.7747)</td>\n",
       "      <td>5</td>\n",
       "      <td>17</td>\n",
       "      <td>61</td>\n",
       "    </tr>\n",
       "    <tr>\n",
       "      <th>2019-07-06 20:11:00</th>\n",
       "      <td>2019-07-06</td>\n",
       "      <td>20:11:00</td>\n",
       "      <td>11070</td>\n",
       "      <td>marburg</td>\n",
       "      <td>(50.82, 8.7737)</td>\n",
       "      <td>(50.7856, 8.7794)</td>\n",
       "      <td>5</td>\n",
       "      <td>20</td>\n",
       "      <td>30</td>\n",
       "    </tr>\n",
       "    <tr>\n",
       "      <th>2019-07-07 08:47:00</th>\n",
       "      <td>2019-07-07</td>\n",
       "      <td>08:47:00</td>\n",
       "      <td>11070</td>\n",
       "      <td>marburg</td>\n",
       "      <td>(50.7856, 8.7794)</td>\n",
       "      <td>(50.7952, 8.7633)</td>\n",
       "      <td>6</td>\n",
       "      <td>8</td>\n",
       "      <td>12</td>\n",
       "    </tr>\n",
       "    <tr>\n",
       "      <th>...</th>\n",
       "      <td>...</td>\n",
       "      <td>...</td>\n",
       "      <td>...</td>\n",
       "      <td>...</td>\n",
       "      <td>...</td>\n",
       "      <td>...</td>\n",
       "      <td>...</td>\n",
       "      <td>...</td>\n",
       "      <td>...</td>\n",
       "    </tr>\n",
       "    <tr>\n",
       "      <th>2019-05-19 12:57:00</th>\n",
       "      <td>2019-05-19</td>\n",
       "      <td>12:57:00</td>\n",
       "      <td>91116</td>\n",
       "      <td>marburg</td>\n",
       "      <td>(50.8279, 8.7751)</td>\n",
       "      <td>(50.8137, 8.7707)</td>\n",
       "      <td>6</td>\n",
       "      <td>12</td>\n",
       "      <td>20</td>\n",
       "    </tr>\n",
       "    <tr>\n",
       "      <th>2019-05-19 21:41:00</th>\n",
       "      <td>2019-05-19</td>\n",
       "      <td>21:41:00</td>\n",
       "      <td>91116</td>\n",
       "      <td>marburg</td>\n",
       "      <td>(50.8137, 8.7707)</td>\n",
       "      <td>(50.8229, 8.7747)</td>\n",
       "      <td>6</td>\n",
       "      <td>21</td>\n",
       "      <td>7</td>\n",
       "    </tr>\n",
       "    <tr>\n",
       "      <th>2019-05-20 06:56:00</th>\n",
       "      <td>2019-05-20</td>\n",
       "      <td>06:56:00</td>\n",
       "      <td>91116</td>\n",
       "      <td>marburg</td>\n",
       "      <td>(50.8229, 8.7747)</td>\n",
       "      <td>(50.82, 8.7737)</td>\n",
       "      <td>0</td>\n",
       "      <td>6</td>\n",
       "      <td>3</td>\n",
       "    </tr>\n",
       "    <tr>\n",
       "      <th>2019-05-20 07:32:00</th>\n",
       "      <td>2019-05-20</td>\n",
       "      <td>07:32:00</td>\n",
       "      <td>91116</td>\n",
       "      <td>marburg</td>\n",
       "      <td>(50.82, 8.7737)</td>\n",
       "      <td>(50.8185, 8.7737)</td>\n",
       "      <td>0</td>\n",
       "      <td>7</td>\n",
       "      <td>20</td>\n",
       "    </tr>\n",
       "    <tr>\n",
       "      <th>2019-05-20 09:38:00</th>\n",
       "      <td>2019-05-20</td>\n",
       "      <td>09:38:00</td>\n",
       "      <td>91116</td>\n",
       "      <td>marburg</td>\n",
       "      <td>(50.8186, 8.7738)</td>\n",
       "      <td>(50.8137, 8.7707)</td>\n",
       "      <td>0</td>\n",
       "      <td>9</td>\n",
       "      <td>8</td>\n",
       "    </tr>\n",
       "  </tbody>\n",
       "</table>\n",
       "<p>164057 rows × 9 columns</p>\n",
       "</div>"
      ],
      "text/plain": [
       "                           day      time  b_number     city  \\\n",
       "datetime                                                      \n",
       "2019-07-04 13:29:00 2019-07-04  13:29:00     11070  marburg   \n",
       "2019-07-06 16:53:00 2019-07-06  16:53:00     11070  marburg   \n",
       "2019-07-06 17:18:00 2019-07-06  17:18:00     11070  marburg   \n",
       "2019-07-06 20:11:00 2019-07-06  20:11:00     11070  marburg   \n",
       "2019-07-07 08:47:00 2019-07-07  08:47:00     11070  marburg   \n",
       "...                        ...       ...       ...      ...   \n",
       "2019-05-19 12:57:00 2019-05-19  12:57:00     91116  marburg   \n",
       "2019-05-19 21:41:00 2019-05-19  21:41:00     91116  marburg   \n",
       "2019-05-20 06:56:00 2019-05-20  06:56:00     91116  marburg   \n",
       "2019-05-20 07:32:00 2019-05-20  07:32:00     91116  marburg   \n",
       "2019-05-20 09:38:00 2019-05-20  09:38:00     91116  marburg   \n",
       "\n",
       "                                  orig               dest  weekday  hour  \\\n",
       "datetime                                                                   \n",
       "2019-07-04 13:29:00  (50.8081, 8.7754)   (50.811, 8.7742)        3    13   \n",
       "2019-07-06 16:53:00   (50.7987, 8.753)  (50.8058, 8.7828)        5    16   \n",
       "2019-07-06 17:18:00  (50.8058, 8.7828)  (50.8229, 8.7747)        5    17   \n",
       "2019-07-06 20:11:00    (50.82, 8.7737)  (50.7856, 8.7794)        5    20   \n",
       "2019-07-07 08:47:00  (50.7856, 8.7794)  (50.7952, 8.7633)        6     8   \n",
       "...                                ...                ...      ...   ...   \n",
       "2019-05-19 12:57:00  (50.8279, 8.7751)  (50.8137, 8.7707)        6    12   \n",
       "2019-05-19 21:41:00  (50.8137, 8.7707)  (50.8229, 8.7747)        6    21   \n",
       "2019-05-20 06:56:00  (50.8229, 8.7747)    (50.82, 8.7737)        0     6   \n",
       "2019-05-20 07:32:00    (50.82, 8.7737)  (50.8185, 8.7737)        0     7   \n",
       "2019-05-20 09:38:00  (50.8186, 8.7738)  (50.8137, 8.7707)        0     9   \n",
       "\n",
       "                     trip_duration_mins  \n",
       "datetime                                 \n",
       "2019-07-04 13:29:00                  41  \n",
       "2019-07-06 16:53:00                  19  \n",
       "2019-07-06 17:18:00                  61  \n",
       "2019-07-06 20:11:00                  30  \n",
       "2019-07-07 08:47:00                  12  \n",
       "...                                 ...  \n",
       "2019-05-19 12:57:00                  20  \n",
       "2019-05-19 21:41:00                   7  \n",
       "2019-05-20 06:56:00                   3  \n",
       "2019-05-20 07:32:00                  20  \n",
       "2019-05-20 09:38:00                   8  \n",
       "\n",
       "[164057 rows x 9 columns]"
      ]
     },
     "execution_count": 61,
     "metadata": {},
     "output_type": "execute_result"
    }
   ],
   "source": [
    "#Read in data\n",
    "marburg = pd.read_pickle('../0_data/marburg_clean.pkl')\n",
    "fleet_size = len(marburg[\"b_number\"].unique())\n",
    "marburg"
   ]
  },
  {
   "cell_type": "code",
   "execution_count": null,
   "metadata": {},
   "outputs": [],
   "source": [
    "#setting start and end date of the trips (start is rounded down hourly)\n",
    "marburg[\"start\"] = marburg.index.floor(freq = \"H\")\n",
    "marburg['end'] = marburg.index + pd.to_timedelta(marburg['trip_duration_mins'], unit='m')"
   ]
  },
  {
   "cell_type": "code",
   "execution_count": 85,
   "metadata": {},
   "outputs": [
    {
     "data": {
      "text/plain": [
       "datetime\n",
       "2019-01-20 00:04:00    1\n",
       "2019-01-20 00:08:00    2\n",
       "2019-01-20 00:25:00    1\n",
       "2019-01-20 00:36:00    1\n",
       "2019-01-20 00:38:00    1\n",
       "                      ..\n",
       "2020-01-20 22:50:00    1\n",
       "2020-01-20 23:06:00    1\n",
       "2020-01-20 23:16:00    1\n",
       "2020-01-20 23:28:00    1\n",
       "2020-01-20 23:45:00    1\n",
       "Name: avail, Length: 124489, dtype: int64"
      ]
     },
     "execution_count": 85,
     "metadata": {},
     "output_type": "execute_result"
    }
   ],
   "source": [
    "#computing avaailablility by grouping by datetime and checking the number of diiferent bkie numbers\n",
    "kpi[\"avail\"]  = marburg.groupby(\"datetime\")[\"b_number\"].nunique()\n",
    "kpi[\"avail\"]"
   ]
  },
  {
   "cell_type": "code",
   "execution_count": 73,
   "metadata": {
    "scrolled": true
   },
   "outputs": [
    {
     "data": {
      "image/png": "[encoded data removed]",
      "text/plain": [
       "<Figure size 960x320 with 1 Axes>"
      ]
     },
     "metadata": {
      "needs_background": "light"
     },
     "output_type": "display_data"
    }
   ],
   "source": [
    "#plotting availability\n",
    "fig,ax = plt.subplots(figsize=(12,4), dpi= 80) \n",
    "\n",
    "ax.plot(kpi[\"avail\"])\n",
    "ax.set_title(\"Bikes available per time interval\")\n",
    "plt.show()"
   ]
  },
  {
   "cell_type": "code",
   "execution_count": 79,
   "metadata": {},
   "outputs": [
    {
     "data": {
      "text/html": [
       "<div>\n",
       "<style scoped>\n",
       "    .dataframe tbody tr th:only-of-type {\n",
       "        vertical-align: middle;\n",
       "    }\n",
       "\n",
       "    .dataframe tbody tr th {\n",
       "        vertical-align: top;\n",
       "    }\n",
       "\n",
       "    .dataframe thead th {\n",
       "        text-align: right;\n",
       "    }\n",
       "</style>\n",
       "<table border=\"1\" class=\"dataframe\">\n",
       "  <thead>\n",
       "    <tr style=\"text-align: right;\">\n",
       "      <th></th>\n",
       "      <th>avail</th>\n",
       "      <th>day</th>\n",
       "      <th>date</th>\n",
       "    </tr>\n",
       "    <tr>\n",
       "      <th>datetime</th>\n",
       "      <th></th>\n",
       "      <th></th>\n",
       "      <th></th>\n",
       "    </tr>\n",
       "  </thead>\n",
       "  <tbody>\n",
       "    <tr>\n",
       "      <th>2019-01-20 00:04:00</th>\n",
       "      <td>1</td>\n",
       "      <td>2019-01-20</td>\n",
       "      <td>2019-01-20</td>\n",
       "    </tr>\n",
       "    <tr>\n",
       "      <th>2019-01-20 00:08:00</th>\n",
       "      <td>2</td>\n",
       "      <td>2019-01-20</td>\n",
       "      <td>2019-01-20</td>\n",
       "    </tr>\n",
       "    <tr>\n",
       "      <th>2019-01-20 00:25:00</th>\n",
       "      <td>1</td>\n",
       "      <td>2019-01-20</td>\n",
       "      <td>2019-01-20</td>\n",
       "    </tr>\n",
       "    <tr>\n",
       "      <th>2019-01-20 00:36:00</th>\n",
       "      <td>1</td>\n",
       "      <td>2019-01-20</td>\n",
       "      <td>2019-01-20</td>\n",
       "    </tr>\n",
       "    <tr>\n",
       "      <th>2019-01-20 00:38:00</th>\n",
       "      <td>1</td>\n",
       "      <td>2019-01-20</td>\n",
       "      <td>2019-01-20</td>\n",
       "    </tr>\n",
       "    <tr>\n",
       "      <th>...</th>\n",
       "      <td>...</td>\n",
       "      <td>...</td>\n",
       "      <td>...</td>\n",
       "    </tr>\n",
       "    <tr>\n",
       "      <th>2020-01-20 22:50:00</th>\n",
       "      <td>1</td>\n",
       "      <td>2020-01-20</td>\n",
       "      <td>2020-01-20</td>\n",
       "    </tr>\n",
       "    <tr>\n",
       "      <th>2020-01-20 23:06:00</th>\n",
       "      <td>1</td>\n",
       "      <td>2020-01-20</td>\n",
       "      <td>2020-01-20</td>\n",
       "    </tr>\n",
       "    <tr>\n",
       "      <th>2020-01-20 23:16:00</th>\n",
       "      <td>1</td>\n",
       "      <td>2020-01-20</td>\n",
       "      <td>2020-01-20</td>\n",
       "    </tr>\n",
       "    <tr>\n",
       "      <th>2020-01-20 23:28:00</th>\n",
       "      <td>1</td>\n",
       "      <td>2020-01-20</td>\n",
       "      <td>2020-01-20</td>\n",
       "    </tr>\n",
       "    <tr>\n",
       "      <th>2020-01-20 23:45:00</th>\n",
       "      <td>1</td>\n",
       "      <td>2020-01-20</td>\n",
       "      <td>2020-01-20</td>\n",
       "    </tr>\n",
       "  </tbody>\n",
       "</table>\n",
       "<p>124489 rows × 3 columns</p>\n",
       "</div>"
      ],
      "text/plain": [
       "                     avail         day        date\n",
       "datetime                                          \n",
       "2019-01-20 00:04:00      1  2019-01-20  2019-01-20\n",
       "2019-01-20 00:08:00      2  2019-01-20  2019-01-20\n",
       "2019-01-20 00:25:00      1  2019-01-20  2019-01-20\n",
       "2019-01-20 00:36:00      1  2019-01-20  2019-01-20\n",
       "2019-01-20 00:38:00      1  2019-01-20  2019-01-20\n",
       "...                    ...         ...         ...\n",
       "2020-01-20 22:50:00      1  2020-01-20  2020-01-20\n",
       "2020-01-20 23:06:00      1  2020-01-20  2020-01-20\n",
       "2020-01-20 23:16:00      1  2020-01-20  2020-01-20\n",
       "2020-01-20 23:28:00      1  2020-01-20  2020-01-20\n",
       "2020-01-20 23:45:00      1  2020-01-20  2020-01-20\n",
       "\n",
       "[124489 rows x 3 columns]"
      ]
     },
     "execution_count": 79,
     "metadata": {},
     "output_type": "execute_result"
    }
   ],
   "source": [
    "#creating day column\n",
    "kpi[\"date\"] = kpi.index.date\n",
    "kpi"
   ]
  },
  {
   "cell_type": "code",
   "execution_count": 80,
   "metadata": {},
   "outputs": [
    {
     "data": {
      "image/png": "[encoded data removed]",
      "text/plain": [
       "<Figure size 960x320 with 1 Axes>"
      ]
     },
     "metadata": {
      "needs_background": "light"
     },
     "output_type": "display_data"
    }
   ],
   "source": [
    "#computing max availaibility per day and plotting it\n",
    "max_avail = kpi.groupby(\"date\")[\"avail\"].max()\n",
    "fig,ax = plt.subplots(figsize=(12,4), dpi= 80) \n",
    "\n",
    "ax.plot(max_avail)\n",
    "ax.set_title(\"Maximum of bikes available per day\")\n",
    "plt.show()"
   ]
  },
  {
   "cell_type": "code",
   "execution_count": null,
   "metadata": {},
   "outputs": [],
   "source": []
  },
  {
   "cell_type": "markdown",
   "metadata": {},
   "source": [
    "## Fleet distance traveled (Tim)"
   ]
  },
  {
   "cell_type": "markdown",
   "metadata": {},
   "source": [
    "Wer das hier liest ist cool :)"
   ]
  },
  {
   "cell_type": "code",
   "execution_count": null,
   "metadata": {},
   "outputs": [],
   "source": []
  },
  {
   "cell_type": "markdown",
   "metadata": {},
   "source": [
    "## Quality of fleet (Julia)"
   ]
  },
  {
   "cell_type": "markdown",
   "metadata": {},
   "source": [
    "Another key performance indicator is the quality of the bikes.   \n",
    "We can assume that if a bike is'nt used for 1 week or longer it is probably broken or can't be accessed.\n",
    "The percentage of bikes that overstep this threshold value can tells us the quality of the fleet."
   ]
  },
  {
   "cell_type": "code",
   "execution_count": null,
   "metadata": {},
   "outputs": [],
   "source": []
  },
  {
   "cell_type": "markdown",
   "metadata": {},
   "source": [
    "## Spread of fleet / coverage (Moritz)"
   ]
  },
  {
   "cell_type": "code",
   "execution_count": null,
   "metadata": {},
   "outputs": [],
   "source": []
  }
 ],
 "metadata": {
  "kernelspec": {
   "display_name": "Python 3",
   "language": "python",
   "name": "python3"
  },
  "language_info": {
   "codemirror_mode": {
    "name": "ipython",
    "version": 3
   },
   "file_extension": ".py",
   "mimetype": "text/x-python",
   "name": "python",
   "nbconvert_exporter": "python",
   "pygments_lexer": "ipython3",
   "version": "3.7.6"
  }
 },
 "nbformat": 4,
 "nbformat_minor": 4
}
